{
 "cells": [
  {
   "cell_type": "code",
   "execution_count": 652,
   "metadata": {
    "ExecuteTime": {
     "end_time": "2020-12-07T22:55:21.857166Z",
     "start_time": "2020-12-07T22:55:21.854796Z"
    }
   },
   "outputs": [],
   "source": [
    "import pandas as pd\n",
    "import numpy as np\n",
    "import matplotlib.pyplot as plt\n",
    "import seaborn as sns"
   ]
  },
  {
   "cell_type": "code",
   "execution_count": 653,
   "metadata": {
    "ExecuteTime": {
     "end_time": "2020-12-07T22:55:23.142733Z",
     "start_time": "2020-12-07T22:55:23.140675Z"
    }
   },
   "outputs": [],
   "source": [
    "from glob import glob"
   ]
  },
  {
   "cell_type": "code",
   "execution_count": 654,
   "metadata": {
    "ExecuteTime": {
     "end_time": "2020-12-07T22:55:24.375704Z",
     "start_time": "2020-12-07T22:55:24.370413Z"
    }
   },
   "outputs": [],
   "source": [
    "csv_files = glob(\"zippedData/*.csv.gz\")"
   ]
  },
  {
   "cell_type": "code",
   "execution_count": 655,
   "metadata": {
    "ExecuteTime": {
     "end_time": "2020-12-07T22:55:25.601843Z",
     "start_time": "2020-12-07T22:55:25.598743Z"
    }
   },
   "outputs": [
    {
     "data": {
      "text/plain": [
       "['zippedData/imdb.title.crew.csv.gz',\n",
       " 'zippedData/tmdb.movies.csv.gz',\n",
       " 'zippedData/imdb.title.akas.csv.gz',\n",
       " 'zippedData/imdb.title.ratings.csv.gz',\n",
       " 'zippedData/imdb.name.basics.csv.gz',\n",
       " 'zippedData/imdb.title.basics.csv.gz',\n",
       " 'zippedData/tn.movie_budgets.csv.gz',\n",
       " 'zippedData/bom.movie_gross.csv.gz',\n",
       " 'zippedData/imdb.title.principals.csv.gz']"
      ]
     },
     "execution_count": 655,
     "metadata": {},
     "output_type": "execute_result"
    }
   ],
   "source": [
    "csv_files"
   ]
  },
  {
   "cell_type": "code",
   "execution_count": 656,
   "metadata": {
    "ExecuteTime": {
     "end_time": "2020-12-07T22:55:26.862476Z",
     "start_time": "2020-12-07T22:55:26.828188Z"
    }
   },
   "outputs": [],
   "source": [
    "movie_info_df = pd.read_csv(\"zippedData/rt.movie_info.tsv.gz\", delimiter = '\\t')"
   ]
  },
  {
   "cell_type": "code",
   "execution_count": 657,
   "metadata": {
    "ExecuteTime": {
     "end_time": "2020-12-07T22:55:28.047214Z",
     "start_time": "2020-12-07T22:55:28.045176Z"
    }
   },
   "outputs": [],
   "source": [
    "import os "
   ]
  },
  {
   "cell_type": "code",
   "execution_count": 658,
   "metadata": {
    "ExecuteTime": {
     "end_time": "2020-12-07T22:55:33.310903Z",
     "start_time": "2020-12-07T22:55:29.294540Z"
    }
   },
   "outputs": [],
   "source": [
    "csv_files_dict = {}\n",
    "for filename in csv_files:\n",
    "    filename_cleaned = os.path.basename(filename).replace(\".csv\",\"\").replace(\".\", \"_\")\n",
    "    filename_df = pd.read_csv(filename,index_col = 0)\n",
    "    csv_files_dict[filename_cleaned] = filename_df"
   ]
  },
  {
   "cell_type": "code",
   "execution_count": 659,
   "metadata": {
    "ExecuteTime": {
     "end_time": "2020-12-07T22:55:34.546032Z",
     "start_time": "2020-12-07T22:55:34.541184Z"
    }
   },
   "outputs": [
    {
     "data": {
      "text/plain": [
       "dict_keys(['imdb_title_crew_gz', 'tmdb_movies_gz', 'imdb_title_akas_gz', 'imdb_title_ratings_gz', 'imdb_name_basics_gz', 'imdb_title_basics_gz', 'tn_movie_budgets_gz', 'bom_movie_gross_gz', 'imdb_title_principals_gz'])"
      ]
     },
     "execution_count": 659,
     "metadata": {},
     "output_type": "execute_result"
    }
   ],
   "source": [
    "csv_files_dict.keys()"
   ]
  },
  {
   "cell_type": "code",
   "execution_count": 660,
   "metadata": {
    "ExecuteTime": {
     "end_time": "2020-12-07T22:55:35.692875Z",
     "start_time": "2020-12-07T22:55:35.690740Z"
    }
   },
   "outputs": [],
   "source": [
    "#most profitable runtime"
   ]
  },
  {
   "cell_type": "code",
   "execution_count": 661,
   "metadata": {
    "ExecuteTime": {
     "end_time": "2020-12-07T22:55:36.996845Z",
     "start_time": "2020-12-07T22:55:36.994075Z"
    }
   },
   "outputs": [],
   "source": [
    "movie_budgets_df = csv_files_dict['tn_movie_budgets_gz']"
   ]
  },
  {
   "cell_type": "code",
   "execution_count": 662,
   "metadata": {
    "ExecuteTime": {
     "end_time": "2020-12-07T22:55:38.410256Z",
     "start_time": "2020-12-07T22:55:38.400466Z"
    }
   },
   "outputs": [
    {
     "data": {
      "text/html": [
       "<div>\n",
       "<style scoped>\n",
       "    .dataframe tbody tr th:only-of-type {\n",
       "        vertical-align: middle;\n",
       "    }\n",
       "\n",
       "    .dataframe tbody tr th {\n",
       "        vertical-align: top;\n",
       "    }\n",
       "\n",
       "    .dataframe thead th {\n",
       "        text-align: right;\n",
       "    }\n",
       "</style>\n",
       "<table border=\"1\" class=\"dataframe\">\n",
       "  <thead>\n",
       "    <tr style=\"text-align: right;\">\n",
       "      <th></th>\n",
       "      <th>release_date</th>\n",
       "      <th>movie</th>\n",
       "      <th>production_budget</th>\n",
       "      <th>domestic_gross</th>\n",
       "      <th>worldwide_gross</th>\n",
       "    </tr>\n",
       "    <tr>\n",
       "      <th>id</th>\n",
       "      <th></th>\n",
       "      <th></th>\n",
       "      <th></th>\n",
       "      <th></th>\n",
       "      <th></th>\n",
       "    </tr>\n",
       "  </thead>\n",
       "  <tbody>\n",
       "    <tr>\n",
       "      <th>1</th>\n",
       "      <td>Dec 18, 2009</td>\n",
       "      <td>Avatar</td>\n",
       "      <td>$425,000,000</td>\n",
       "      <td>$760,507,625</td>\n",
       "      <td>$2,776,345,279</td>\n",
       "    </tr>\n",
       "    <tr>\n",
       "      <th>2</th>\n",
       "      <td>May 20, 2011</td>\n",
       "      <td>Pirates of the Caribbean: On Stranger Tides</td>\n",
       "      <td>$410,600,000</td>\n",
       "      <td>$241,063,875</td>\n",
       "      <td>$1,045,663,875</td>\n",
       "    </tr>\n",
       "    <tr>\n",
       "      <th>3</th>\n",
       "      <td>Jun 7, 2019</td>\n",
       "      <td>Dark Phoenix</td>\n",
       "      <td>$350,000,000</td>\n",
       "      <td>$42,762,350</td>\n",
       "      <td>$149,762,350</td>\n",
       "    </tr>\n",
       "    <tr>\n",
       "      <th>4</th>\n",
       "      <td>May 1, 2015</td>\n",
       "      <td>Avengers: Age of Ultron</td>\n",
       "      <td>$330,600,000</td>\n",
       "      <td>$459,005,868</td>\n",
       "      <td>$1,403,013,963</td>\n",
       "    </tr>\n",
       "    <tr>\n",
       "      <th>5</th>\n",
       "      <td>Dec 15, 2017</td>\n",
       "      <td>Star Wars Ep. VIII: The Last Jedi</td>\n",
       "      <td>$317,000,000</td>\n",
       "      <td>$620,181,382</td>\n",
       "      <td>$1,316,721,747</td>\n",
       "    </tr>\n",
       "  </tbody>\n",
       "</table>\n",
       "</div>"
      ],
      "text/plain": [
       "    release_date                                        movie  \\\n",
       "id                                                              \n",
       "1   Dec 18, 2009                                       Avatar   \n",
       "2   May 20, 2011  Pirates of the Caribbean: On Stranger Tides   \n",
       "3    Jun 7, 2019                                 Dark Phoenix   \n",
       "4    May 1, 2015                      Avengers: Age of Ultron   \n",
       "5   Dec 15, 2017            Star Wars Ep. VIII: The Last Jedi   \n",
       "\n",
       "   production_budget domestic_gross worldwide_gross  \n",
       "id                                                   \n",
       "1       $425,000,000   $760,507,625  $2,776,345,279  \n",
       "2       $410,600,000   $241,063,875  $1,045,663,875  \n",
       "3       $350,000,000    $42,762,350    $149,762,350  \n",
       "4       $330,600,000   $459,005,868  $1,403,013,963  \n",
       "5       $317,000,000   $620,181,382  $1,316,721,747  "
      ]
     },
     "execution_count": 662,
     "metadata": {},
     "output_type": "execute_result"
    }
   ],
   "source": [
    "movie_budgets_df.head()"
   ]
  },
  {
   "cell_type": "code",
   "execution_count": 663,
   "metadata": {
    "ExecuteTime": {
     "end_time": "2020-12-07T22:55:39.996462Z",
     "start_time": "2020-12-07T22:55:39.993978Z"
    }
   },
   "outputs": [],
   "source": [
    "# We going to check data type for the columns we have "
   ]
  },
  {
   "cell_type": "code",
   "execution_count": 664,
   "metadata": {
    "ExecuteTime": {
     "end_time": "2020-12-07T22:55:41.469164Z",
     "start_time": "2020-12-07T22:55:41.454373Z"
    }
   },
   "outputs": [
    {
     "name": "stdout",
     "output_type": "stream",
     "text": [
      "<class 'pandas.core.frame.DataFrame'>\n",
      "Int64Index: 5782 entries, 1 to 82\n",
      "Data columns (total 5 columns):\n",
      " #   Column             Non-Null Count  Dtype \n",
      "---  ------             --------------  ----- \n",
      " 0   release_date       5782 non-null   object\n",
      " 1   movie              5782 non-null   object\n",
      " 2   production_budget  5782 non-null   object\n",
      " 3   domestic_gross     5782 non-null   object\n",
      " 4   worldwide_gross    5782 non-null   object\n",
      "dtypes: object(5)\n",
      "memory usage: 271.0+ KB\n"
     ]
    }
   ],
   "source": [
    "movie_budgets_df.info()"
   ]
  },
  {
   "cell_type": "code",
   "execution_count": 665,
   "metadata": {
    "ExecuteTime": {
     "end_time": "2020-12-07T22:55:42.876967Z",
     "start_time": "2020-12-07T22:55:42.875002Z"
    }
   },
   "outputs": [],
   "source": [
    "#It does not look good because the Data type for the columns with numbers is \n",
    "#object when its supoost to be int. we are going to switch them to int."
   ]
  },
  {
   "cell_type": "code",
   "execution_count": 666,
   "metadata": {
    "ExecuteTime": {
     "end_time": "2020-12-07T22:55:44.132374Z",
     "start_time": "2020-12-07T22:55:44.130119Z"
    }
   },
   "outputs": [],
   "source": [
    "#movie_budgets_df['production_budget'].astype('int64')\n",
    "#we tried to which the type but it did not work because the \"$\" and \",\"\n",
    "#we are going to get rid of \"$\" and \",\" first using the .replace()"
   ]
  },
  {
   "cell_type": "code",
   "execution_count": 667,
   "metadata": {
    "ExecuteTime": {
     "end_time": "2020-12-07T22:55:45.304869Z",
     "start_time": "2020-12-07T22:55:45.302049Z"
    }
   },
   "outputs": [],
   "source": [
    "def converted_col_to_int(df, col):\n",
    "    df[col] = df[col].str.replace('$', '').str.replace(',','').astype('int')\n",
    "    return df"
   ]
  },
  {
   "cell_type": "code",
   "execution_count": 668,
   "metadata": {
    "ExecuteTime": {
     "end_time": "2020-12-07T22:55:46.547494Z",
     "start_time": "2020-12-07T22:55:46.526070Z"
    }
   },
   "outputs": [],
   "source": [
    "cols_to_convert = ['production_budget', 'domestic_gross', 'worldwide_gross']\n",
    "\n",
    "for col in cols_to_convert:\n",
    "    movie_budgets_df = converted_col_to_int(movie_budgets_df, col)\n",
    "    "
   ]
  },
  {
   "cell_type": "code",
   "execution_count": 669,
   "metadata": {
    "ExecuteTime": {
     "end_time": "2020-12-07T22:55:47.872068Z",
     "start_time": "2020-12-07T22:55:47.870315Z"
    }
   },
   "outputs": [],
   "source": [
    "#now we are going to check our work by making sure \n",
    "#[production budget, domestic gross, worldwide gross] = int64"
   ]
  },
  {
   "cell_type": "code",
   "execution_count": 670,
   "metadata": {
    "ExecuteTime": {
     "end_time": "2020-12-07T22:55:49.075158Z",
     "start_time": "2020-12-07T22:55:49.065253Z"
    }
   },
   "outputs": [
    {
     "name": "stdout",
     "output_type": "stream",
     "text": [
      "<class 'pandas.core.frame.DataFrame'>\n",
      "Int64Index: 5782 entries, 1 to 82\n",
      "Data columns (total 5 columns):\n",
      " #   Column             Non-Null Count  Dtype \n",
      "---  ------             --------------  ----- \n",
      " 0   release_date       5782 non-null   object\n",
      " 1   movie              5782 non-null   object\n",
      " 2   production_budget  5782 non-null   int64 \n",
      " 3   domestic_gross     5782 non-null   int64 \n",
      " 4   worldwide_gross    5782 non-null   int64 \n",
      "dtypes: int64(3), object(2)\n",
      "memory usage: 271.0+ KB\n"
     ]
    }
   ],
   "source": [
    "movie_budgets_df.info()"
   ]
  },
  {
   "cell_type": "code",
   "execution_count": 671,
   "metadata": {
    "ExecuteTime": {
     "end_time": "2020-12-07T22:55:50.533527Z",
     "start_time": "2020-12-07T22:55:50.531519Z"
    }
   },
   "outputs": [],
   "source": [
    "#now we check if we have any missing values"
   ]
  },
  {
   "cell_type": "code",
   "execution_count": 672,
   "metadata": {
    "ExecuteTime": {
     "end_time": "2020-12-07T22:55:52.088059Z",
     "start_time": "2020-12-07T22:55:52.081204Z"
    }
   },
   "outputs": [
    {
     "data": {
      "text/plain": [
       "release_date         0\n",
       "movie                0\n",
       "production_budget    0\n",
       "domestic_gross       0\n",
       "worldwide_gross      0\n",
       "dtype: int64"
      ]
     },
     "execution_count": 672,
     "metadata": {},
     "output_type": "execute_result"
    }
   ],
   "source": [
    "movie_budgets_df.isna().sum()"
   ]
  },
  {
   "cell_type": "code",
   "execution_count": 673,
   "metadata": {
    "ExecuteTime": {
     "end_time": "2020-12-07T22:55:53.515516Z",
     "start_time": "2020-12-07T22:55:53.513347Z"
    }
   },
   "outputs": [],
   "source": [
    "#now we are going to look at the 5 most occuring values to check if there is any weird values"
   ]
  },
  {
   "cell_type": "code",
   "execution_count": 674,
   "metadata": {
    "ExecuteTime": {
     "end_time": "2020-12-07T22:55:55.053037Z",
     "start_time": "2020-12-07T22:55:55.034421Z"
    }
   },
   "outputs": [
    {
     "name": "stdout",
     "output_type": "stream",
     "text": [
      "Currently checking values from col:release_date\n",
      "Top 5 values:\n",
      "Dec 31, 2014    0.004151\n",
      "Dec 31, 2015    0.003978\n",
      "Dec 31, 2010    0.002594\n",
      "Dec 31, 2008    0.002421\n",
      "Dec 31, 2012    0.002248\n",
      "Name: release_date, dtype: float64\n",
      "-------------------------------------------\n",
      "Currently checking values from col:movie\n",
      "Top 5 values:\n",
      "Home               0.000519\n",
      "Halloween          0.000519\n",
      "King Kong          0.000519\n",
      "The Love Letter    0.000346\n",
      "Ca$h               0.000346\n",
      "Name: movie, dtype: float64\n",
      "-------------------------------------------\n",
      "Currently checking values from col:production_budget\n",
      "Top 5 values:\n",
      "20000000    0.039952\n",
      "10000000    0.036666\n",
      "30000000    0.030612\n",
      "15000000    0.029920\n",
      "25000000    0.029575\n",
      "Name: production_budget, dtype: float64\n",
      "-------------------------------------------\n",
      "Currently checking values from col:domestic_gross\n",
      "Top 5 values:\n",
      "0           0.094777\n",
      "8000000     0.001557\n",
      "2000000     0.001211\n",
      "7000000     0.001211\n",
      "10000000    0.001038\n",
      "Name: domestic_gross, dtype: float64\n",
      "-------------------------------------------\n",
      "Currently checking values from col:worldwide_gross\n",
      "Top 5 values:\n",
      "0          0.063473\n",
      "8000000    0.001557\n",
      "7000000    0.001038\n",
      "2000000    0.001038\n",
      "4000000    0.000692\n",
      "Name: worldwide_gross, dtype: float64\n",
      "-------------------------------------------\n"
     ]
    }
   ],
   "source": [
    "for col in movie_budgets_df:\n",
    "    print(f\"Currently checking values from col:{col}\")\n",
    "    print(f\"Top 5 values:\\n{movie_budgets_df[col].value_counts(normalize = True)[0:5]}\")\n",
    "    print('-------------------------------------------')"
   ]
  },
  {
   "cell_type": "code",
   "execution_count": 675,
   "metadata": {
    "ExecuteTime": {
     "end_time": "2020-12-07T22:55:56.527842Z",
     "start_time": "2020-12-07T22:55:56.517798Z"
    }
   },
   "outputs": [
    {
     "data": {
      "text/html": [
       "<div>\n",
       "<style scoped>\n",
       "    .dataframe tbody tr th:only-of-type {\n",
       "        vertical-align: middle;\n",
       "    }\n",
       "\n",
       "    .dataframe tbody tr th {\n",
       "        vertical-align: top;\n",
       "    }\n",
       "\n",
       "    .dataframe thead th {\n",
       "        text-align: right;\n",
       "    }\n",
       "</style>\n",
       "<table border=\"1\" class=\"dataframe\">\n",
       "  <thead>\n",
       "    <tr style=\"text-align: right;\">\n",
       "      <th></th>\n",
       "      <th>release_date</th>\n",
       "      <th>movie</th>\n",
       "      <th>production_budget</th>\n",
       "      <th>domestic_gross</th>\n",
       "      <th>worldwide_gross</th>\n",
       "      <th>difference</th>\n",
       "    </tr>\n",
       "    <tr>\n",
       "      <th>id</th>\n",
       "      <th></th>\n",
       "      <th></th>\n",
       "      <th></th>\n",
       "      <th></th>\n",
       "      <th></th>\n",
       "      <th></th>\n",
       "    </tr>\n",
       "  </thead>\n",
       "  <tbody>\n",
       "    <tr>\n",
       "      <th>1</th>\n",
       "      <td>Dec 18, 2009</td>\n",
       "      <td>Avatar</td>\n",
       "      <td>425000000</td>\n",
       "      <td>760507625</td>\n",
       "      <td>2776345279</td>\n",
       "      <td>2351345279</td>\n",
       "    </tr>\n",
       "    <tr>\n",
       "      <th>2</th>\n",
       "      <td>May 20, 2011</td>\n",
       "      <td>Pirates of the Caribbean: On Stranger Tides</td>\n",
       "      <td>410600000</td>\n",
       "      <td>241063875</td>\n",
       "      <td>1045663875</td>\n",
       "      <td>635063875</td>\n",
       "    </tr>\n",
       "    <tr>\n",
       "      <th>3</th>\n",
       "      <td>Jun 7, 2019</td>\n",
       "      <td>Dark Phoenix</td>\n",
       "      <td>350000000</td>\n",
       "      <td>42762350</td>\n",
       "      <td>149762350</td>\n",
       "      <td>-200237650</td>\n",
       "    </tr>\n",
       "    <tr>\n",
       "      <th>4</th>\n",
       "      <td>May 1, 2015</td>\n",
       "      <td>Avengers: Age of Ultron</td>\n",
       "      <td>330600000</td>\n",
       "      <td>459005868</td>\n",
       "      <td>1403013963</td>\n",
       "      <td>1072413963</td>\n",
       "    </tr>\n",
       "    <tr>\n",
       "      <th>5</th>\n",
       "      <td>Dec 15, 2017</td>\n",
       "      <td>Star Wars Ep. VIII: The Last Jedi</td>\n",
       "      <td>317000000</td>\n",
       "      <td>620181382</td>\n",
       "      <td>1316721747</td>\n",
       "      <td>999721747</td>\n",
       "    </tr>\n",
       "  </tbody>\n",
       "</table>\n",
       "</div>"
      ],
      "text/plain": [
       "    release_date                                        movie  \\\n",
       "id                                                              \n",
       "1   Dec 18, 2009                                       Avatar   \n",
       "2   May 20, 2011  Pirates of the Caribbean: On Stranger Tides   \n",
       "3    Jun 7, 2019                                 Dark Phoenix   \n",
       "4    May 1, 2015                      Avengers: Age of Ultron   \n",
       "5   Dec 15, 2017            Star Wars Ep. VIII: The Last Jedi   \n",
       "\n",
       "    production_budget  domestic_gross  worldwide_gross  difference  \n",
       "id                                                                  \n",
       "1           425000000       760507625       2776345279  2351345279  \n",
       "2           410600000       241063875       1045663875   635063875  \n",
       "3           350000000        42762350        149762350  -200237650  \n",
       "4           330600000       459005868       1403013963  1072413963  \n",
       "5           317000000       620181382       1316721747   999721747  "
      ]
     },
     "execution_count": 675,
     "metadata": {},
     "output_type": "execute_result"
    }
   ],
   "source": [
    "movie_budgets_df['difference'] = movie_budgets_df['worldwide_gross'] - movie_budgets_df['production_budget']\n",
    "movie_budgets_df.head()"
   ]
  },
  {
   "cell_type": "code",
   "execution_count": 676,
   "metadata": {
    "ExecuteTime": {
     "end_time": "2020-12-07T22:55:57.997201Z",
     "start_time": "2020-12-07T22:55:57.994294Z"
    }
   },
   "outputs": [],
   "source": [
    "title_basics_df = csv_files_dict['imdb_title_basics_gz']"
   ]
  },
  {
   "cell_type": "code",
   "execution_count": 677,
   "metadata": {
    "ExecuteTime": {
     "end_time": "2020-12-07T22:55:59.362886Z",
     "start_time": "2020-12-07T22:55:59.354971Z"
    }
   },
   "outputs": [
    {
     "data": {
      "text/html": [
       "<div>\n",
       "<style scoped>\n",
       "    .dataframe tbody tr th:only-of-type {\n",
       "        vertical-align: middle;\n",
       "    }\n",
       "\n",
       "    .dataframe tbody tr th {\n",
       "        vertical-align: top;\n",
       "    }\n",
       "\n",
       "    .dataframe thead th {\n",
       "        text-align: right;\n",
       "    }\n",
       "</style>\n",
       "<table border=\"1\" class=\"dataframe\">\n",
       "  <thead>\n",
       "    <tr style=\"text-align: right;\">\n",
       "      <th></th>\n",
       "      <th>primary_title</th>\n",
       "      <th>original_title</th>\n",
       "      <th>start_year</th>\n",
       "      <th>runtime_minutes</th>\n",
       "      <th>genres</th>\n",
       "    </tr>\n",
       "    <tr>\n",
       "      <th>tconst</th>\n",
       "      <th></th>\n",
       "      <th></th>\n",
       "      <th></th>\n",
       "      <th></th>\n",
       "      <th></th>\n",
       "    </tr>\n",
       "  </thead>\n",
       "  <tbody>\n",
       "    <tr>\n",
       "      <th>tt0063540</th>\n",
       "      <td>Sunghursh</td>\n",
       "      <td>Sunghursh</td>\n",
       "      <td>2013</td>\n",
       "      <td>175.0</td>\n",
       "      <td>Action,Crime,Drama</td>\n",
       "    </tr>\n",
       "    <tr>\n",
       "      <th>tt0066787</th>\n",
       "      <td>One Day Before the Rainy Season</td>\n",
       "      <td>Ashad Ka Ek Din</td>\n",
       "      <td>2019</td>\n",
       "      <td>114.0</td>\n",
       "      <td>Biography,Drama</td>\n",
       "    </tr>\n",
       "    <tr>\n",
       "      <th>tt0069049</th>\n",
       "      <td>The Other Side of the Wind</td>\n",
       "      <td>The Other Side of the Wind</td>\n",
       "      <td>2018</td>\n",
       "      <td>122.0</td>\n",
       "      <td>Drama</td>\n",
       "    </tr>\n",
       "    <tr>\n",
       "      <th>tt0069204</th>\n",
       "      <td>Sabse Bada Sukh</td>\n",
       "      <td>Sabse Bada Sukh</td>\n",
       "      <td>2018</td>\n",
       "      <td>NaN</td>\n",
       "      <td>Comedy,Drama</td>\n",
       "    </tr>\n",
       "    <tr>\n",
       "      <th>tt0100275</th>\n",
       "      <td>The Wandering Soap Opera</td>\n",
       "      <td>La Telenovela Errante</td>\n",
       "      <td>2017</td>\n",
       "      <td>80.0</td>\n",
       "      <td>Comedy,Drama,Fantasy</td>\n",
       "    </tr>\n",
       "  </tbody>\n",
       "</table>\n",
       "</div>"
      ],
      "text/plain": [
       "                             primary_title              original_title  \\\n",
       "tconst                                                                   \n",
       "tt0063540                        Sunghursh                   Sunghursh   \n",
       "tt0066787  One Day Before the Rainy Season             Ashad Ka Ek Din   \n",
       "tt0069049       The Other Side of the Wind  The Other Side of the Wind   \n",
       "tt0069204                  Sabse Bada Sukh             Sabse Bada Sukh   \n",
       "tt0100275         The Wandering Soap Opera       La Telenovela Errante   \n",
       "\n",
       "           start_year  runtime_minutes                genres  \n",
       "tconst                                                        \n",
       "tt0063540        2013            175.0    Action,Crime,Drama  \n",
       "tt0066787        2019            114.0       Biography,Drama  \n",
       "tt0069049        2018            122.0                 Drama  \n",
       "tt0069204        2018              NaN          Comedy,Drama  \n",
       "tt0100275        2017             80.0  Comedy,Drama,Fantasy  "
      ]
     },
     "execution_count": 677,
     "metadata": {},
     "output_type": "execute_result"
    }
   ],
   "source": [
    "title_basics_df.head()"
   ]
  },
  {
   "cell_type": "code",
   "execution_count": 678,
   "metadata": {
    "ExecuteTime": {
     "end_time": "2020-12-07T22:56:00.687024Z",
     "start_time": "2020-12-07T22:56:00.638761Z"
    }
   },
   "outputs": [],
   "source": [
    "movie_runtime_df = pd.merge(movie_budgets_df, title_basics_df, left_on = ['movie'],\n",
    "                           right_on = ['primary_title'], how = 'left')"
   ]
  },
  {
   "cell_type": "code",
   "execution_count": 679,
   "metadata": {
    "ExecuteTime": {
     "end_time": "2020-12-07T22:56:01.907698Z",
     "start_time": "2020-12-07T22:56:01.897279Z"
    }
   },
   "outputs": [
    {
     "data": {
      "text/html": [
       "<div>\n",
       "<style scoped>\n",
       "    .dataframe tbody tr th:only-of-type {\n",
       "        vertical-align: middle;\n",
       "    }\n",
       "\n",
       "    .dataframe tbody tr th {\n",
       "        vertical-align: top;\n",
       "    }\n",
       "\n",
       "    .dataframe thead th {\n",
       "        text-align: right;\n",
       "    }\n",
       "</style>\n",
       "<table border=\"1\" class=\"dataframe\">\n",
       "  <thead>\n",
       "    <tr style=\"text-align: right;\">\n",
       "      <th></th>\n",
       "      <th>release_date</th>\n",
       "      <th>movie</th>\n",
       "      <th>production_budget</th>\n",
       "      <th>domestic_gross</th>\n",
       "      <th>worldwide_gross</th>\n",
       "      <th>difference</th>\n",
       "      <th>primary_title</th>\n",
       "      <th>original_title</th>\n",
       "      <th>start_year</th>\n",
       "      <th>runtime_minutes</th>\n",
       "      <th>genres</th>\n",
       "    </tr>\n",
       "  </thead>\n",
       "  <tbody>\n",
       "    <tr>\n",
       "      <th>0</th>\n",
       "      <td>Dec 18, 2009</td>\n",
       "      <td>Avatar</td>\n",
       "      <td>425000000</td>\n",
       "      <td>760507625</td>\n",
       "      <td>2776345279</td>\n",
       "      <td>2351345279</td>\n",
       "      <td>Avatar</td>\n",
       "      <td>Abatâ</td>\n",
       "      <td>2011.0</td>\n",
       "      <td>93.0</td>\n",
       "      <td>Horror</td>\n",
       "    </tr>\n",
       "    <tr>\n",
       "      <th>1</th>\n",
       "      <td>May 20, 2011</td>\n",
       "      <td>Pirates of the Caribbean: On Stranger Tides</td>\n",
       "      <td>410600000</td>\n",
       "      <td>241063875</td>\n",
       "      <td>1045663875</td>\n",
       "      <td>635063875</td>\n",
       "      <td>Pirates of the Caribbean: On Stranger Tides</td>\n",
       "      <td>Pirates of the Caribbean: On Stranger Tides</td>\n",
       "      <td>2011.0</td>\n",
       "      <td>136.0</td>\n",
       "      <td>Action,Adventure,Fantasy</td>\n",
       "    </tr>\n",
       "    <tr>\n",
       "      <th>2</th>\n",
       "      <td>Jun 7, 2019</td>\n",
       "      <td>Dark Phoenix</td>\n",
       "      <td>350000000</td>\n",
       "      <td>42762350</td>\n",
       "      <td>149762350</td>\n",
       "      <td>-200237650</td>\n",
       "      <td>Dark Phoenix</td>\n",
       "      <td>Dark Phoenix</td>\n",
       "      <td>2019.0</td>\n",
       "      <td>113.0</td>\n",
       "      <td>Action,Adventure,Sci-Fi</td>\n",
       "    </tr>\n",
       "    <tr>\n",
       "      <th>3</th>\n",
       "      <td>May 1, 2015</td>\n",
       "      <td>Avengers: Age of Ultron</td>\n",
       "      <td>330600000</td>\n",
       "      <td>459005868</td>\n",
       "      <td>1403013963</td>\n",
       "      <td>1072413963</td>\n",
       "      <td>Avengers: Age of Ultron</td>\n",
       "      <td>Avengers: Age of Ultron</td>\n",
       "      <td>2015.0</td>\n",
       "      <td>141.0</td>\n",
       "      <td>Action,Adventure,Sci-Fi</td>\n",
       "    </tr>\n",
       "    <tr>\n",
       "      <th>4</th>\n",
       "      <td>Dec 15, 2017</td>\n",
       "      <td>Star Wars Ep. VIII: The Last Jedi</td>\n",
       "      <td>317000000</td>\n",
       "      <td>620181382</td>\n",
       "      <td>1316721747</td>\n",
       "      <td>999721747</td>\n",
       "      <td>NaN</td>\n",
       "      <td>NaN</td>\n",
       "      <td>NaN</td>\n",
       "      <td>NaN</td>\n",
       "      <td>NaN</td>\n",
       "    </tr>\n",
       "  </tbody>\n",
       "</table>\n",
       "</div>"
      ],
      "text/plain": [
       "   release_date                                        movie  \\\n",
       "0  Dec 18, 2009                                       Avatar   \n",
       "1  May 20, 2011  Pirates of the Caribbean: On Stranger Tides   \n",
       "2   Jun 7, 2019                                 Dark Phoenix   \n",
       "3   May 1, 2015                      Avengers: Age of Ultron   \n",
       "4  Dec 15, 2017            Star Wars Ep. VIII: The Last Jedi   \n",
       "\n",
       "   production_budget  domestic_gross  worldwide_gross  difference  \\\n",
       "0          425000000       760507625       2776345279  2351345279   \n",
       "1          410600000       241063875       1045663875   635063875   \n",
       "2          350000000        42762350        149762350  -200237650   \n",
       "3          330600000       459005868       1403013963  1072413963   \n",
       "4          317000000       620181382       1316721747   999721747   \n",
       "\n",
       "                                 primary_title  \\\n",
       "0                                       Avatar   \n",
       "1  Pirates of the Caribbean: On Stranger Tides   \n",
       "2                                 Dark Phoenix   \n",
       "3                      Avengers: Age of Ultron   \n",
       "4                                          NaN   \n",
       "\n",
       "                                original_title  start_year  runtime_minutes  \\\n",
       "0                                        Abatâ      2011.0             93.0   \n",
       "1  Pirates of the Caribbean: On Stranger Tides      2011.0            136.0   \n",
       "2                                 Dark Phoenix      2019.0            113.0   \n",
       "3                      Avengers: Age of Ultron      2015.0            141.0   \n",
       "4                                          NaN         NaN              NaN   \n",
       "\n",
       "                     genres  \n",
       "0                    Horror  \n",
       "1  Action,Adventure,Fantasy  \n",
       "2   Action,Adventure,Sci-Fi  \n",
       "3   Action,Adventure,Sci-Fi  \n",
       "4                       NaN  "
      ]
     },
     "execution_count": 679,
     "metadata": {},
     "output_type": "execute_result"
    }
   ],
   "source": [
    "movie_runtime_df.head()"
   ]
  },
  {
   "cell_type": "code",
   "execution_count": 680,
   "metadata": {
    "ExecuteTime": {
     "end_time": "2020-12-07T22:56:03.210777Z",
     "start_time": "2020-12-07T22:56:03.208944Z"
    }
   },
   "outputs": [],
   "source": [
    "# it looks like we have lots of missing data again but much less than the last 2 \n",
    "# questions we worked on, for the runtime column which i am intersted in we have\n",
    "#53% missing data"
   ]
  },
  {
   "cell_type": "code",
   "execution_count": 681,
   "metadata": {
    "ExecuteTime": {
     "end_time": "2020-12-07T22:56:04.512424Z",
     "start_time": "2020-12-07T22:56:04.497766Z"
    }
   },
   "outputs": [
    {
     "name": "stdout",
     "output_type": "stream",
     "text": [
      "<class 'pandas.core.frame.DataFrame'>\n",
      "Int64Index: 7221 entries, 0 to 7220\n",
      "Data columns (total 11 columns):\n",
      " #   Column             Non-Null Count  Dtype  \n",
      "---  ------             --------------  -----  \n",
      " 0   release_date       7221 non-null   object \n",
      " 1   movie              7221 non-null   object \n",
      " 2   production_budget  7221 non-null   int64  \n",
      " 3   domestic_gross     7221 non-null   int64  \n",
      " 4   worldwide_gross    7221 non-null   int64  \n",
      " 5   difference         7221 non-null   int64  \n",
      " 6   primary_title      3815 non-null   object \n",
      " 7   original_title     3814 non-null   object \n",
      " 8   start_year         3815 non-null   float64\n",
      " 9   runtime_minutes    3328 non-null   float64\n",
      " 10  genres             3743 non-null   object \n",
      "dtypes: float64(2), int64(4), object(5)\n",
      "memory usage: 677.0+ KB\n"
     ]
    }
   ],
   "source": [
    "movie_runtime_df.info()"
   ]
  },
  {
   "cell_type": "code",
   "execution_count": 682,
   "metadata": {
    "ExecuteTime": {
     "end_time": "2020-12-07T22:56:05.790824Z",
     "start_time": "2020-12-07T22:56:05.783083Z"
    }
   },
   "outputs": [
    {
     "data": {
      "text/plain": [
       "release_date         0.000000\n",
       "movie                0.000000\n",
       "production_budget    0.000000\n",
       "domestic_gross       0.000000\n",
       "worldwide_gross      0.000000\n",
       "difference           0.000000\n",
       "primary_title        0.471680\n",
       "original_title       0.471818\n",
       "start_year           0.471680\n",
       "runtime_minutes      0.539122\n",
       "genres               0.481651\n",
       "dtype: float64"
      ]
     },
     "execution_count": 682,
     "metadata": {},
     "output_type": "execute_result"
    }
   ],
   "source": [
    "movie_runtime_df.isna().sum() / len(movie_runtime_df)"
   ]
  },
  {
   "cell_type": "code",
   "execution_count": 683,
   "metadata": {
    "ExecuteTime": {
     "end_time": "2020-12-07T22:56:07.122485Z",
     "start_time": "2020-12-07T22:56:07.114288Z"
    }
   },
   "outputs": [],
   "source": [
    "movie_runtime_df.dropna(inplace=True)"
   ]
  },
  {
   "cell_type": "code",
   "execution_count": 684,
   "metadata": {
    "ExecuteTime": {
     "end_time": "2020-12-07T22:56:08.508455Z",
     "start_time": "2020-12-07T22:56:08.498977Z"
    }
   },
   "outputs": [
    {
     "name": "stdout",
     "output_type": "stream",
     "text": [
      "<class 'pandas.core.frame.DataFrame'>\n",
      "Int64Index: 3309 entries, 0 to 7219\n",
      "Data columns (total 11 columns):\n",
      " #   Column             Non-Null Count  Dtype  \n",
      "---  ------             --------------  -----  \n",
      " 0   release_date       3309 non-null   object \n",
      " 1   movie              3309 non-null   object \n",
      " 2   production_budget  3309 non-null   int64  \n",
      " 3   domestic_gross     3309 non-null   int64  \n",
      " 4   worldwide_gross    3309 non-null   int64  \n",
      " 5   difference         3309 non-null   int64  \n",
      " 6   primary_title      3309 non-null   object \n",
      " 7   original_title     3309 non-null   object \n",
      " 8   start_year         3309 non-null   float64\n",
      " 9   runtime_minutes    3309 non-null   float64\n",
      " 10  genres             3309 non-null   object \n",
      "dtypes: float64(2), int64(4), object(5)\n",
      "memory usage: 310.2+ KB\n"
     ]
    }
   ],
   "source": [
    "movie_runtime_df.info()"
   ]
  },
  {
   "cell_type": "code",
   "execution_count": 685,
   "metadata": {
    "ExecuteTime": {
     "end_time": "2020-12-07T22:56:09.818738Z",
     "start_time": "2020-12-07T22:56:09.812829Z"
    }
   },
   "outputs": [],
   "source": [
    "sorted_runtime = movie_runtime_df.sort_values(by= 'runtime_minutes', ascending=True)[0:2000]"
   ]
  },
  {
   "cell_type": "code",
   "execution_count": 686,
   "metadata": {
    "ExecuteTime": {
     "end_time": "2020-12-07T22:56:11.046312Z",
     "start_time": "2020-12-07T22:56:11.035448Z"
    }
   },
   "outputs": [
    {
     "data": {
      "text/html": [
       "<div>\n",
       "<style scoped>\n",
       "    .dataframe tbody tr th:only-of-type {\n",
       "        vertical-align: middle;\n",
       "    }\n",
       "\n",
       "    .dataframe tbody tr th {\n",
       "        vertical-align: top;\n",
       "    }\n",
       "\n",
       "    .dataframe thead th {\n",
       "        text-align: right;\n",
       "    }\n",
       "</style>\n",
       "<table border=\"1\" class=\"dataframe\">\n",
       "  <thead>\n",
       "    <tr style=\"text-align: right;\">\n",
       "      <th></th>\n",
       "      <th>release_date</th>\n",
       "      <th>movie</th>\n",
       "      <th>production_budget</th>\n",
       "      <th>domestic_gross</th>\n",
       "      <th>worldwide_gross</th>\n",
       "      <th>difference</th>\n",
       "      <th>primary_title</th>\n",
       "      <th>original_title</th>\n",
       "      <th>start_year</th>\n",
       "      <th>runtime_minutes</th>\n",
       "      <th>genres</th>\n",
       "    </tr>\n",
       "  </thead>\n",
       "  <tbody>\n",
       "    <tr>\n",
       "      <th>6980</th>\n",
       "      <td>Jul 22, 2005</td>\n",
       "      <td>November</td>\n",
       "      <td>250000</td>\n",
       "      <td>191862</td>\n",
       "      <td>191862</td>\n",
       "      <td>-58138</td>\n",
       "      <td>November</td>\n",
       "      <td>November</td>\n",
       "      <td>2014.0</td>\n",
       "      <td>1.0</td>\n",
       "      <td>Documentary,History</td>\n",
       "    </tr>\n",
       "    <tr>\n",
       "      <th>281</th>\n",
       "      <td>Mar 27, 2015</td>\n",
       "      <td>Home</td>\n",
       "      <td>130000000</td>\n",
       "      <td>177397510</td>\n",
       "      <td>385997896</td>\n",
       "      <td>255997896</td>\n",
       "      <td>Home</td>\n",
       "      <td>Home</td>\n",
       "      <td>2012.0</td>\n",
       "      <td>3.0</td>\n",
       "      <td>Biography,Documentary</td>\n",
       "    </tr>\n",
       "    <tr>\n",
       "      <th>2171</th>\n",
       "      <td>Feb 24, 2012</td>\n",
       "      <td>Wanderlust</td>\n",
       "      <td>32500000</td>\n",
       "      <td>17288155</td>\n",
       "      <td>24159934</td>\n",
       "      <td>-8340066</td>\n",
       "      <td>Wanderlust</td>\n",
       "      <td>Wanderlust</td>\n",
       "      <td>2015.0</td>\n",
       "      <td>3.0</td>\n",
       "      <td>Adventure,Documentary</td>\n",
       "    </tr>\n",
       "    <tr>\n",
       "      <th>4266</th>\n",
       "      <td>Jun 5, 2009</td>\n",
       "      <td>Home</td>\n",
       "      <td>12000000</td>\n",
       "      <td>0</td>\n",
       "      <td>0</td>\n",
       "      <td>-12000000</td>\n",
       "      <td>Home</td>\n",
       "      <td>Home</td>\n",
       "      <td>2012.0</td>\n",
       "      <td>3.0</td>\n",
       "      <td>Biography,Documentary</td>\n",
       "    </tr>\n",
       "    <tr>\n",
       "      <th>2543</th>\n",
       "      <td>Mar 18, 2011</td>\n",
       "      <td>Limitless</td>\n",
       "      <td>27000000</td>\n",
       "      <td>79249455</td>\n",
       "      <td>155564919</td>\n",
       "      <td>128564919</td>\n",
       "      <td>Limitless</td>\n",
       "      <td>Limitless</td>\n",
       "      <td>2015.0</td>\n",
       "      <td>3.0</td>\n",
       "      <td>Biography,Documentary</td>\n",
       "    </tr>\n",
       "  </tbody>\n",
       "</table>\n",
       "</div>"
      ],
      "text/plain": [
       "      release_date       movie  production_budget  domestic_gross  \\\n",
       "6980  Jul 22, 2005    November             250000          191862   \n",
       "281   Mar 27, 2015        Home          130000000       177397510   \n",
       "2171  Feb 24, 2012  Wanderlust           32500000        17288155   \n",
       "4266   Jun 5, 2009        Home           12000000               0   \n",
       "2543  Mar 18, 2011   Limitless           27000000        79249455   \n",
       "\n",
       "      worldwide_gross  difference primary_title original_title  start_year  \\\n",
       "6980           191862      -58138      November       November      2014.0   \n",
       "281         385997896   255997896          Home           Home      2012.0   \n",
       "2171         24159934    -8340066    Wanderlust     Wanderlust      2015.0   \n",
       "4266                0   -12000000          Home           Home      2012.0   \n",
       "2543        155564919   128564919     Limitless      Limitless      2015.0   \n",
       "\n",
       "      runtime_minutes                 genres  \n",
       "6980              1.0    Documentary,History  \n",
       "281               3.0  Biography,Documentary  \n",
       "2171              3.0  Adventure,Documentary  \n",
       "4266              3.0  Biography,Documentary  \n",
       "2543              3.0  Biography,Documentary  "
      ]
     },
     "execution_count": 686,
     "metadata": {},
     "output_type": "execute_result"
    }
   ],
   "source": [
    "sorted_runtime.head()"
   ]
  },
  {
   "cell_type": "code",
   "execution_count": 687,
   "metadata": {
    "ExecuteTime": {
     "end_time": "2020-12-07T22:56:14.270882Z",
     "start_time": "2020-12-07T22:56:12.301639Z"
    },
    "scrolled": true
   },
   "outputs": [
    {
     "data": {
      "image/png": "[encoded data removed]",
      "text/plain": [
       "<Figure size 648x360 with 1 Axes>"
      ]
     },
     "metadata": {
      "needs_background": "light"
     },
     "output_type": "display_data"
    }
   ],
   "source": [
    "plt.figure(figsize= (9,5))\n",
    "sns.lineplot(data=sorted_runtime, x=\"runtime_minutes\", y=\"difference\", palette=\"Blues_d\")\n",
    "plt.title('Profitable Runtimes')\n",
    "plt.savefig('1.png')"
   ]
  },
  {
   "cell_type": "code",
   "execution_count": 688,
   "metadata": {
    "ExecuteTime": {
     "end_time": "2020-12-07T22:56:15.775652Z",
     "start_time": "2020-12-07T22:56:15.773127Z"
    }
   },
   "outputs": [],
   "source": [
    "# top 5 directors to work with"
   ]
  },
  {
   "cell_type": "code",
   "execution_count": 689,
   "metadata": {
    "ExecuteTime": {
     "end_time": "2020-12-07T22:56:17.283022Z",
     "start_time": "2020-12-07T22:56:17.269584Z"
    }
   },
   "outputs": [
    {
     "data": {
      "text/html": [
       "<div>\n",
       "<style scoped>\n",
       "    .dataframe tbody tr th:only-of-type {\n",
       "        vertical-align: middle;\n",
       "    }\n",
       "\n",
       "    .dataframe tbody tr th {\n",
       "        vertical-align: top;\n",
       "    }\n",
       "\n",
       "    .dataframe thead th {\n",
       "        text-align: right;\n",
       "    }\n",
       "</style>\n",
       "<table border=\"1\" class=\"dataframe\">\n",
       "  <thead>\n",
       "    <tr style=\"text-align: right;\">\n",
       "      <th></th>\n",
       "      <th>id</th>\n",
       "      <th>synopsis</th>\n",
       "      <th>rating</th>\n",
       "      <th>genre</th>\n",
       "      <th>director</th>\n",
       "      <th>writer</th>\n",
       "      <th>theater_date</th>\n",
       "      <th>dvd_date</th>\n",
       "      <th>currency</th>\n",
       "      <th>box_office</th>\n",
       "      <th>runtime</th>\n",
       "      <th>studio</th>\n",
       "    </tr>\n",
       "  </thead>\n",
       "  <tbody>\n",
       "    <tr>\n",
       "      <th>0</th>\n",
       "      <td>1</td>\n",
       "      <td>This gritty, fast-paced, and innovative police...</td>\n",
       "      <td>R</td>\n",
       "      <td>Action and Adventure|Classics|Drama</td>\n",
       "      <td>William Friedkin</td>\n",
       "      <td>Ernest Tidyman</td>\n",
       "      <td>Oct 9, 1971</td>\n",
       "      <td>Sep 25, 2001</td>\n",
       "      <td>NaN</td>\n",
       "      <td>NaN</td>\n",
       "      <td>104 minutes</td>\n",
       "      <td>NaN</td>\n",
       "    </tr>\n",
       "    <tr>\n",
       "      <th>1</th>\n",
       "      <td>3</td>\n",
       "      <td>New York City, not-too-distant-future: Eric Pa...</td>\n",
       "      <td>R</td>\n",
       "      <td>Drama|Science Fiction and Fantasy</td>\n",
       "      <td>David Cronenberg</td>\n",
       "      <td>David Cronenberg|Don DeLillo</td>\n",
       "      <td>Aug 17, 2012</td>\n",
       "      <td>Jan 1, 2013</td>\n",
       "      <td>$</td>\n",
       "      <td>600,000</td>\n",
       "      <td>108 minutes</td>\n",
       "      <td>Entertainment One</td>\n",
       "    </tr>\n",
       "    <tr>\n",
       "      <th>2</th>\n",
       "      <td>5</td>\n",
       "      <td>Illeana Douglas delivers a superb performance ...</td>\n",
       "      <td>R</td>\n",
       "      <td>Drama|Musical and Performing Arts</td>\n",
       "      <td>Allison Anders</td>\n",
       "      <td>Allison Anders</td>\n",
       "      <td>Sep 13, 1996</td>\n",
       "      <td>Apr 18, 2000</td>\n",
       "      <td>NaN</td>\n",
       "      <td>NaN</td>\n",
       "      <td>116 minutes</td>\n",
       "      <td>NaN</td>\n",
       "    </tr>\n",
       "    <tr>\n",
       "      <th>3</th>\n",
       "      <td>6</td>\n",
       "      <td>Michael Douglas runs afoul of a treacherous su...</td>\n",
       "      <td>R</td>\n",
       "      <td>Drama|Mystery and Suspense</td>\n",
       "      <td>Barry Levinson</td>\n",
       "      <td>Paul Attanasio|Michael Crichton</td>\n",
       "      <td>Dec 9, 1994</td>\n",
       "      <td>Aug 27, 1997</td>\n",
       "      <td>NaN</td>\n",
       "      <td>NaN</td>\n",
       "      <td>128 minutes</td>\n",
       "      <td>NaN</td>\n",
       "    </tr>\n",
       "    <tr>\n",
       "      <th>4</th>\n",
       "      <td>7</td>\n",
       "      <td>NaN</td>\n",
       "      <td>NR</td>\n",
       "      <td>Drama|Romance</td>\n",
       "      <td>Rodney Bennett</td>\n",
       "      <td>Giles Cooper</td>\n",
       "      <td>NaN</td>\n",
       "      <td>NaN</td>\n",
       "      <td>NaN</td>\n",
       "      <td>NaN</td>\n",
       "      <td>200 minutes</td>\n",
       "      <td>NaN</td>\n",
       "    </tr>\n",
       "  </tbody>\n",
       "</table>\n",
       "</div>"
      ],
      "text/plain": [
       "   id                                           synopsis rating  \\\n",
       "0   1  This gritty, fast-paced, and innovative police...      R   \n",
       "1   3  New York City, not-too-distant-future: Eric Pa...      R   \n",
       "2   5  Illeana Douglas delivers a superb performance ...      R   \n",
       "3   6  Michael Douglas runs afoul of a treacherous su...      R   \n",
       "4   7                                                NaN     NR   \n",
       "\n",
       "                                 genre          director  \\\n",
       "0  Action and Adventure|Classics|Drama  William Friedkin   \n",
       "1    Drama|Science Fiction and Fantasy  David Cronenberg   \n",
       "2    Drama|Musical and Performing Arts    Allison Anders   \n",
       "3           Drama|Mystery and Suspense    Barry Levinson   \n",
       "4                        Drama|Romance    Rodney Bennett   \n",
       "\n",
       "                            writer  theater_date      dvd_date currency  \\\n",
       "0                   Ernest Tidyman   Oct 9, 1971  Sep 25, 2001      NaN   \n",
       "1     David Cronenberg|Don DeLillo  Aug 17, 2012   Jan 1, 2013        $   \n",
       "2                   Allison Anders  Sep 13, 1996  Apr 18, 2000      NaN   \n",
       "3  Paul Attanasio|Michael Crichton   Dec 9, 1994  Aug 27, 1997      NaN   \n",
       "4                     Giles Cooper           NaN           NaN      NaN   \n",
       "\n",
       "  box_office      runtime             studio  \n",
       "0        NaN  104 minutes                NaN  \n",
       "1    600,000  108 minutes  Entertainment One  \n",
       "2        NaN  116 minutes                NaN  \n",
       "3        NaN  128 minutes                NaN  \n",
       "4        NaN  200 minutes                NaN  "
      ]
     },
     "execution_count": 689,
     "metadata": {},
     "output_type": "execute_result"
    }
   ],
   "source": [
    "movie_info_df.head()"
   ]
  },
  {
   "cell_type": "code",
   "execution_count": 690,
   "metadata": {
    "ExecuteTime": {
     "end_time": "2020-12-07T22:56:18.749255Z",
     "start_time": "2020-12-07T22:56:18.740210Z"
    }
   },
   "outputs": [
    {
     "name": "stdout",
     "output_type": "stream",
     "text": [
      "<class 'pandas.core.frame.DataFrame'>\n",
      "RangeIndex: 1560 entries, 0 to 1559\n",
      "Data columns (total 12 columns):\n",
      " #   Column        Non-Null Count  Dtype \n",
      "---  ------        --------------  ----- \n",
      " 0   id            1560 non-null   int64 \n",
      " 1   synopsis      1498 non-null   object\n",
      " 2   rating        1557 non-null   object\n",
      " 3   genre         1552 non-null   object\n",
      " 4   director      1361 non-null   object\n",
      " 5   writer        1111 non-null   object\n",
      " 6   theater_date  1201 non-null   object\n",
      " 7   dvd_date      1201 non-null   object\n",
      " 8   currency      340 non-null    object\n",
      " 9   box_office    340 non-null    object\n",
      " 10  runtime       1530 non-null   object\n",
      " 11  studio        494 non-null    object\n",
      "dtypes: int64(1), object(11)\n",
      "memory usage: 146.4+ KB\n"
     ]
    }
   ],
   "source": [
    "movie_info_df.info()"
   ]
  },
  {
   "cell_type": "code",
   "execution_count": 691,
   "metadata": {
    "ExecuteTime": {
     "end_time": "2020-12-07T22:56:20.255628Z",
     "start_time": "2020-12-07T22:56:20.247815Z"
    }
   },
   "outputs": [
    {
     "data": {
      "text/plain": [
       "id              0.000000\n",
       "synopsis        0.039744\n",
       "rating          0.001923\n",
       "genre           0.005128\n",
       "director        0.127564\n",
       "writer          0.287821\n",
       "theater_date    0.230128\n",
       "dvd_date        0.230128\n",
       "currency        0.782051\n",
       "box_office      0.782051\n",
       "runtime         0.019231\n",
       "studio          0.683333\n",
       "dtype: float64"
      ]
     },
     "execution_count": 691,
     "metadata": {},
     "output_type": "execute_result"
    }
   ],
   "source": [
    "movie_info_df.isna().sum()/len(movie_info_df)"
   ]
  },
  {
   "cell_type": "code",
   "execution_count": 692,
   "metadata": {
    "ExecuteTime": {
     "end_time": "2020-12-07T22:56:21.779071Z",
     "start_time": "2020-12-07T22:56:21.776836Z"
    }
   },
   "outputs": [],
   "source": [
    "#we can see we have lots of missing values here, in the column we need which is \n",
    "#box office we have 78% missing values."
   ]
  },
  {
   "cell_type": "code",
   "execution_count": 693,
   "metadata": {
    "ExecuteTime": {
     "end_time": "2020-12-07T22:56:23.269399Z",
     "start_time": "2020-12-07T22:56:23.267105Z"
    }
   },
   "outputs": [],
   "source": [
    "#now we are going to look at the 5 most occuring values to check if there is any weird values"
   ]
  },
  {
   "cell_type": "code",
   "execution_count": 694,
   "metadata": {
    "ExecuteTime": {
     "end_time": "2020-12-07T22:56:24.821542Z",
     "start_time": "2020-12-07T22:56:24.789273Z"
    }
   },
   "outputs": [
    {
     "name": "stdout",
     "output_type": "stream",
     "text": [
      "Currently checking values from col:id\n",
      "Top 5 values:\n",
      "2000    0.000641\n",
      "697     0.000641\n",
      "673     0.000641\n",
      "674     0.000641\n",
      "675     0.000641\n",
      "Name: id, dtype: float64\n",
      "-------------------------------------------\n",
      "Currently checking values from col:synopsis\n",
      "Top 5 values:\n",
      "A group of air crash survivors are stranded in the Mongolian desert with no chance of rescue. Facing a brutal environment, dwindling resources, and an attack by desert smugglers, they realize their only hope is doing the \"impossible\"--building a new plane from the wreckage.                                                                                                                                                                                                                                                                                                                                                                                                                                                                                                                                                                                                                                                                                                                                                                                                                                                                                                                                                                                                                                                                                                                                                                                                                                                                                                                                                                                                                                                                                                                                                                                                                                                                                                                                                                                                                            0.001335\n",
      "For those with a taste for the repugnant comes this gory blood-and-guts fest that tells the horrific story of a British fellow who gets kidnapped by aliens and three years later is returned carrying infectious spores that have transformed him into a kind of crab thingy that causes all kinds of perverse sexual and violent mayhem.                                                                                                                                                                                                                                                                                                                                                                                                                                                                                                                                                                                                                                                                                                                                                                                                                                                                                                                                                                                                                                                                                                                                                                                                                                                                                                                                                                                                                                                                                                                                                                                                                                                                                                                                                                    0.000668\n",
      "Though made in Britain and Europe, Eagle's Wing qualifies as a Western. Easterner Pike (Martin Sheen) does a lot of growing up in a hurry when he becomes a trapper out-West. By mid-film, Pike is accomplished enough to compete with Comanche chief White Bull (Sam Waterston, there's a masterpiece of nontypecasting                                                                                                                                                                                                                                                                                                                                                                                                                                                                                                                                                                                                                                                                                                                                                                                                                                                                                                                                                                                                                                                                                                                                                                                                                                                                                                                                                                                                                                                                                                                                                                                                                                                                                                                                                                                      0.000668\n",
      "A blend of science fiction and noir detective fiction, Blade Runner (1982) was a box office and critical bust upon its initial exhibition, but its unique postmodern production design became hugely influential within the sci-fi genre, and the film gained a significant cult following that increased its stature. Harrison Ford stars as Rick Deckard, a retired cop in Los Angeles circa 2019. L.A. has become a pan-cultural dystopia of corporate advertising, pollution and flying automobiles, as well as replicants, human-like androids with short life spans built by the Tyrell Corporation for use in dangerous off-world colonization. Deckard's former job in the police department was as a talented blade runner, a euphemism for detectives that hunt down and assassinate rogue replicants. Called before his one-time superior (M. Emmett Walsh), Deckard is forced back into active duty. A quartet of replicants led by Roy Batty (Rutger Hauer) has escaped and headed to Earth, killing several humans in the process. After meeting with the eccentric Eldon Tyrell (Joe Turkel), creator of the replicants, Deckard finds and eliminates Zhora (Joanna Cassidy), one of his targets. Attacked by another replicant, Leon (Brion James), Deckard is about to be killed when he's saved by Rachael (Sean Young), Tyrell's assistant and a replicant who's unaware of her true nature. In the meantime, Batty and his replicant pleasure model lover, Pris (Darryl Hannah) use a dying inventor, J.F. Sebastian (William Sanderson) to get close to Tyrell and murder him. Deckard tracks the pair to Sebastian's, where a bloody and violent final confrontation between Deckard and Batty takes place on a skyscraper rooftop high above the city. In 1992, Ridley Scott released a popular director's cut that removed Deckard's narration, added a dream sequence, and excised a happy ending imposed by the results of test screenings; these legendary behind-the-scenes battles were chronicled in a 1996 tome, Future Noir: The Making of Blade Runner by Paul M. Sammon.    0.000668\n",
      "X the Unknown is a well-crafted imitation of the Quatermass British sci-fi pictures of the 1950s. A group of soldiers on maneuvers in Scotland stumble across a gravel pit which emanates an unusual amount of radiation. Several deaths occur before the radioactive material is mysteriously stolen. Researcher Dr. Adam Royston (Dean Jagger) speculates that the thief is some sort of inhuman monstrosity dwelling at the Earth's core. He points out that past radioactive disturbances have been occurring at 50-year intervals, each followed by sudden deaths and the disappearance of the material. Royston suggests that the unknown monster has been resuscitated by humankind's recent atomic experiments. Sure enough, the monster manifests itself as a huge slab of glowing radioactive mud (laugh now if you must -- you won't laugh when you see it). X the Unknown works well within its limited budget; unfortunately, many TV prints have been truncated, robbing some of the best horrific moments of their full impact.                                                                                                                                                                                                                                                                                                                                                                                                                                                                                                                                                                                                                                                                                                                                                                                                                                                                                                                                                                                                                                                                0.000668\n",
      "Name: synopsis, dtype: float64\n",
      "-------------------------------------------\n",
      "Currently checking values from col:rating\n",
      "Top 5 values:\n",
      "R        0.334618\n",
      "NR       0.323057\n",
      "PG       0.154143\n",
      "PG-13    0.150931\n",
      "G        0.036609\n",
      "Name: rating, dtype: float64\n",
      "-------------------------------------------\n",
      "Currently checking values from col:genre\n",
      "Top 5 values:\n",
      "Drama                                0.097294\n",
      "Comedy                               0.070876\n",
      "Comedy|Drama                         0.051546\n",
      "Drama|Mystery and Suspense           0.043170\n",
      "Art House and International|Drama    0.039948\n",
      "Name: genre, dtype: float64\n",
      "-------------------------------------------\n",
      "Currently checking values from col:director\n",
      "Top 5 values:\n",
      "Steven Spielberg    0.007348\n",
      "Clint Eastwood      0.005878\n",
      "William Friedkin    0.002939\n",
      "Barry Levinson      0.002939\n",
      "Alfred Hitchcock    0.002939\n",
      "Name: director, dtype: float64\n",
      "-------------------------------------------\n",
      "Currently checking values from col:writer\n",
      "Top 5 values:\n",
      "Woody Allen           0.0036\n",
      "Sylvester Stallone    0.0027\n",
      "Hong Sang-soo         0.0027\n",
      "Jim Jarmusch          0.0027\n",
      "John Hughes           0.0027\n",
      "Name: writer, dtype: float64\n",
      "-------------------------------------------\n",
      "Currently checking values from col:theater_date\n",
      "Top 5 values:\n",
      "Jan 1, 1987    0.006661\n",
      "Jan 1, 1994    0.004163\n",
      "Jan 1, 1940    0.003331\n",
      "Jan 1, 1973    0.003331\n",
      "Jan 1, 1966    0.003331\n",
      "Name: theater_date, dtype: float64\n",
      "-------------------------------------------\n",
      "Currently checking values from col:dvd_date\n",
      "Top 5 values:\n",
      "Jun 1, 2004     0.009159\n",
      "Nov 6, 2001     0.005828\n",
      "Sep 3, 2002     0.005828\n",
      "Sep 2, 2003     0.004996\n",
      "Aug 27, 1997    0.004996\n",
      "Name: dvd_date, dtype: float64\n",
      "-------------------------------------------\n",
      "Currently checking values from col:currency\n",
      "Top 5 values:\n",
      "$    1.0\n",
      "Name: currency, dtype: float64\n",
      "-------------------------------------------\n",
      "Currently checking values from col:box_office\n",
      "Top 5 values:\n",
      "200,000       0.005882\n",
      "20,900,803    0.005882\n",
      "32,000,000    0.005882\n",
      "600,000       0.005882\n",
      "73,023,275    0.002941\n",
      "Name: box_office, dtype: float64\n",
      "-------------------------------------------\n",
      "Currently checking values from col:runtime\n",
      "Top 5 values:\n",
      "90 minutes     0.047059\n",
      "95 minutes     0.043137\n",
      "100 minutes    0.033333\n",
      "93 minutes     0.030719\n",
      "96 minutes     0.028105\n",
      "Name: runtime, dtype: float64\n",
      "-------------------------------------------\n",
      "Currently checking values from col:studio\n",
      "Top 5 values:\n",
      "Universal Pictures        0.070850\n",
      "Paramount Pictures        0.054656\n",
      "20th Century Fox          0.052632\n",
      "Sony Pictures Classics    0.044534\n",
      "Warner Bros. Pictures     0.042510\n",
      "Name: studio, dtype: float64\n",
      "-------------------------------------------\n"
     ]
    }
   ],
   "source": [
    "for col in movie_info_df:\n",
    "    print(f\"Currently checking values from col:{col}\")\n",
    "    print(f\"Top 5 values:\\n{movie_info_df[col].value_counts(normalize = True)[0:5]}\")\n",
    "    print('-------------------------------------------')"
   ]
  },
  {
   "cell_type": "code",
   "execution_count": 695,
   "metadata": {
    "ExecuteTime": {
     "end_time": "2020-12-07T22:56:26.251340Z",
     "start_time": "2020-12-07T22:56:26.245338Z"
    }
   },
   "outputs": [],
   "source": [
    "movie_info_df.dropna(inplace=True)"
   ]
  },
  {
   "cell_type": "code",
   "execution_count": 696,
   "metadata": {
    "ExecuteTime": {
     "end_time": "2020-12-07T22:56:27.774001Z",
     "start_time": "2020-12-07T22:56:27.766647Z"
    }
   },
   "outputs": [
    {
     "name": "stdout",
     "output_type": "stream",
     "text": [
      "<class 'pandas.core.frame.DataFrame'>\n",
      "Int64Index: 235 entries, 1 to 1545\n",
      "Data columns (total 12 columns):\n",
      " #   Column        Non-Null Count  Dtype \n",
      "---  ------        --------------  ----- \n",
      " 0   id            235 non-null    int64 \n",
      " 1   synopsis      235 non-null    object\n",
      " 2   rating        235 non-null    object\n",
      " 3   genre         235 non-null    object\n",
      " 4   director      235 non-null    object\n",
      " 5   writer        235 non-null    object\n",
      " 6   theater_date  235 non-null    object\n",
      " 7   dvd_date      235 non-null    object\n",
      " 8   currency      235 non-null    object\n",
      " 9   box_office    235 non-null    object\n",
      " 10  runtime       235 non-null    object\n",
      " 11  studio        235 non-null    object\n",
      "dtypes: int64(1), object(11)\n",
      "memory usage: 23.9+ KB\n"
     ]
    }
   ],
   "source": [
    "movie_info_df.info()"
   ]
  },
  {
   "cell_type": "code",
   "execution_count": 697,
   "metadata": {
    "ExecuteTime": {
     "end_time": "2020-12-07T22:56:29.214819Z",
     "start_time": "2020-12-07T22:56:29.211795Z"
    }
   },
   "outputs": [],
   "source": [
    "#It does not look good because the Data type for the \"box office\" column with numbers is \n",
    "#object when its supoost to be int. we are going to switch them to int."
   ]
  },
  {
   "cell_type": "code",
   "execution_count": 698,
   "metadata": {
    "ExecuteTime": {
     "end_time": "2020-12-07T22:56:30.768688Z",
     "start_time": "2020-12-07T22:56:30.765437Z"
    }
   },
   "outputs": [],
   "source": [
    "def converted_col_to_int(df, col):\n",
    "    df[col] = df[col].str.replace(',','').astype('int')\n",
    "    return df"
   ]
  },
  {
   "cell_type": "code",
   "execution_count": 699,
   "metadata": {
    "ExecuteTime": {
     "end_time": "2020-12-07T22:56:32.120491Z",
     "start_time": "2020-12-07T22:56:32.116428Z"
    }
   },
   "outputs": [],
   "source": [
    "cols_to_convert2 = ['box_office']\n",
    "\n",
    "for col in cols_to_convert2:\n",
    "    movie_info_df = converted_col_to_int(movie_info_df, col)\n",
    "    "
   ]
  },
  {
   "cell_type": "code",
   "execution_count": 700,
   "metadata": {
    "ExecuteTime": {
     "end_time": "2020-12-07T22:56:33.536875Z",
     "start_time": "2020-12-07T22:56:33.534729Z"
    }
   },
   "outputs": [],
   "source": [
    "#now we are going to check our work by making sure \n",
    "#[box office] = int64"
   ]
  },
  {
   "cell_type": "code",
   "execution_count": 701,
   "metadata": {
    "ExecuteTime": {
     "end_time": "2020-12-07T22:56:35.036196Z",
     "start_time": "2020-12-07T22:56:35.027261Z"
    }
   },
   "outputs": [
    {
     "name": "stdout",
     "output_type": "stream",
     "text": [
      "<class 'pandas.core.frame.DataFrame'>\n",
      "Int64Index: 235 entries, 1 to 1545\n",
      "Data columns (total 12 columns):\n",
      " #   Column        Non-Null Count  Dtype \n",
      "---  ------        --------------  ----- \n",
      " 0   id            235 non-null    int64 \n",
      " 1   synopsis      235 non-null    object\n",
      " 2   rating        235 non-null    object\n",
      " 3   genre         235 non-null    object\n",
      " 4   director      235 non-null    object\n",
      " 5   writer        235 non-null    object\n",
      " 6   theater_date  235 non-null    object\n",
      " 7   dvd_date      235 non-null    object\n",
      " 8   currency      235 non-null    object\n",
      " 9   box_office    235 non-null    int64 \n",
      " 10  runtime       235 non-null    object\n",
      " 11  studio        235 non-null    object\n",
      "dtypes: int64(2), object(10)\n",
      "memory usage: 23.9+ KB\n"
     ]
    }
   ],
   "source": [
    "movie_info_df.info()"
   ]
  },
  {
   "cell_type": "code",
   "execution_count": 717,
   "metadata": {
    "ExecuteTime": {
     "end_time": "2020-12-08T01:53:33.232013Z",
     "start_time": "2020-12-08T01:53:33.220478Z"
    }
   },
   "outputs": [
    {
     "data": {
      "text/html": [
       "<div>\n",
       "<style scoped>\n",
       "    .dataframe tbody tr th:only-of-type {\n",
       "        vertical-align: middle;\n",
       "    }\n",
       "\n",
       "    .dataframe tbody tr th {\n",
       "        vertical-align: top;\n",
       "    }\n",
       "\n",
       "    .dataframe thead th {\n",
       "        text-align: right;\n",
       "    }\n",
       "</style>\n",
       "<table border=\"1\" class=\"dataframe\">\n",
       "  <thead>\n",
       "    <tr style=\"text-align: right;\">\n",
       "      <th></th>\n",
       "      <th>id</th>\n",
       "      <th>box_office</th>\n",
       "    </tr>\n",
       "  </thead>\n",
       "  <tbody>\n",
       "    <tr>\n",
       "      <th>count</th>\n",
       "      <td>235.000000</td>\n",
       "      <td>2.350000e+02</td>\n",
       "    </tr>\n",
       "    <tr>\n",
       "      <th>mean</th>\n",
       "      <td>1010.217021</td>\n",
       "      <td>4.195840e+07</td>\n",
       "    </tr>\n",
       "    <tr>\n",
       "      <th>std</th>\n",
       "      <td>578.522979</td>\n",
       "      <td>6.263016e+07</td>\n",
       "    </tr>\n",
       "    <tr>\n",
       "      <th>min</th>\n",
       "      <td>3.000000</td>\n",
       "      <td>3.630000e+02</td>\n",
       "    </tr>\n",
       "    <tr>\n",
       "      <th>25%</th>\n",
       "      <td>488.500000</td>\n",
       "      <td>2.302444e+06</td>\n",
       "    </tr>\n",
       "    <tr>\n",
       "      <th>50%</th>\n",
       "      <td>1044.000000</td>\n",
       "      <td>1.553631e+07</td>\n",
       "    </tr>\n",
       "    <tr>\n",
       "      <th>75%</th>\n",
       "      <td>1526.000000</td>\n",
       "      <td>5.264952e+07</td>\n",
       "    </tr>\n",
       "    <tr>\n",
       "      <th>max</th>\n",
       "      <td>1985.000000</td>\n",
       "      <td>3.680000e+08</td>\n",
       "    </tr>\n",
       "  </tbody>\n",
       "</table>\n",
       "</div>"
      ],
      "text/plain": [
       "                id    box_office\n",
       "count   235.000000  2.350000e+02\n",
       "mean   1010.217021  4.195840e+07\n",
       "std     578.522979  6.263016e+07\n",
       "min       3.000000  3.630000e+02\n",
       "25%     488.500000  2.302444e+06\n",
       "50%    1044.000000  1.553631e+07\n",
       "75%    1526.000000  5.264952e+07\n",
       "max    1985.000000  3.680000e+08"
      ]
     },
     "execution_count": 717,
     "metadata": {},
     "output_type": "execute_result"
    }
   ],
   "source": [
    "movie_info_df.describe()"
   ]
  },
  {
   "cell_type": "code",
   "execution_count": 702,
   "metadata": {
    "ExecuteTime": {
     "end_time": "2020-12-07T22:56:36.418822Z",
     "start_time": "2020-12-07T22:56:36.413446Z"
    }
   },
   "outputs": [],
   "source": [
    "sorted_directors = movie_info_df.sort_values(by = 'box_office', ascending= False).head()"
   ]
  },
  {
   "cell_type": "code",
   "execution_count": 703,
   "metadata": {
    "ExecuteTime": {
     "end_time": "2020-12-07T22:56:37.960011Z",
     "start_time": "2020-12-07T22:56:37.767478Z"
    }
   },
   "outputs": [
    {
     "data": {
      "image/png": "[encoded data removed]",
      "text/plain": [
       "<Figure size 648x360 with 1 Axes>"
      ]
     },
     "metadata": {
      "needs_background": "light"
     },
     "output_type": "display_data"
    }
   ],
   "source": [
    "plt.figure(figsize= (9,5))\n",
    "sns.barplot(x= 'box_office', y = 'director', data= sorted_directors, palette=\"Blues_d\")\n",
    "plt.title('Top 5 Directors')\n",
    "plt.savefig('2.png')"
   ]
  },
  {
   "cell_type": "code",
   "execution_count": 704,
   "metadata": {
    "ExecuteTime": {
     "end_time": "2020-12-07T22:56:39.331200Z",
     "start_time": "2020-12-07T22:56:39.328882Z"
    }
   },
   "outputs": [],
   "source": [
    "#top 5 writers to work with "
   ]
  },
  {
   "cell_type": "code",
   "execution_count": 705,
   "metadata": {
    "ExecuteTime": {
     "end_time": "2020-12-07T22:56:40.746910Z",
     "start_time": "2020-12-07T22:56:40.733132Z"
    }
   },
   "outputs": [
    {
     "data": {
      "text/html": [
       "<div>\n",
       "<style scoped>\n",
       "    .dataframe tbody tr th:only-of-type {\n",
       "        vertical-align: middle;\n",
       "    }\n",
       "\n",
       "    .dataframe tbody tr th {\n",
       "        vertical-align: top;\n",
       "    }\n",
       "\n",
       "    .dataframe thead th {\n",
       "        text-align: right;\n",
       "    }\n",
       "</style>\n",
       "<table border=\"1\" class=\"dataframe\">\n",
       "  <thead>\n",
       "    <tr style=\"text-align: right;\">\n",
       "      <th></th>\n",
       "      <th>id</th>\n",
       "      <th>synopsis</th>\n",
       "      <th>rating</th>\n",
       "      <th>genre</th>\n",
       "      <th>director</th>\n",
       "      <th>writer</th>\n",
       "      <th>theater_date</th>\n",
       "      <th>dvd_date</th>\n",
       "      <th>currency</th>\n",
       "      <th>box_office</th>\n",
       "      <th>runtime</th>\n",
       "      <th>studio</th>\n",
       "    </tr>\n",
       "  </thead>\n",
       "  <tbody>\n",
       "    <tr>\n",
       "      <th>1</th>\n",
       "      <td>3</td>\n",
       "      <td>New York City, not-too-distant-future: Eric Pa...</td>\n",
       "      <td>R</td>\n",
       "      <td>Drama|Science Fiction and Fantasy</td>\n",
       "      <td>David Cronenberg</td>\n",
       "      <td>David Cronenberg|Don DeLillo</td>\n",
       "      <td>Aug 17, 2012</td>\n",
       "      <td>Jan 1, 2013</td>\n",
       "      <td>$</td>\n",
       "      <td>600000</td>\n",
       "      <td>108 minutes</td>\n",
       "      <td>Entertainment One</td>\n",
       "    </tr>\n",
       "    <tr>\n",
       "      <th>6</th>\n",
       "      <td>10</td>\n",
       "      <td>Some cast and crew from NBC's highly acclaimed...</td>\n",
       "      <td>PG-13</td>\n",
       "      <td>Comedy</td>\n",
       "      <td>Jake Kasdan</td>\n",
       "      <td>Mike White</td>\n",
       "      <td>Jan 11, 2002</td>\n",
       "      <td>Jun 18, 2002</td>\n",
       "      <td>$</td>\n",
       "      <td>41032915</td>\n",
       "      <td>82 minutes</td>\n",
       "      <td>Paramount Pictures</td>\n",
       "    </tr>\n",
       "    <tr>\n",
       "      <th>7</th>\n",
       "      <td>13</td>\n",
       "      <td>Stewart Kane, an Irishman living in the Austra...</td>\n",
       "      <td>R</td>\n",
       "      <td>Drama</td>\n",
       "      <td>Ray Lawrence</td>\n",
       "      <td>Raymond Carver|Beatrix Christian</td>\n",
       "      <td>Apr 27, 2006</td>\n",
       "      <td>Oct 2, 2007</td>\n",
       "      <td>$</td>\n",
       "      <td>224114</td>\n",
       "      <td>123 minutes</td>\n",
       "      <td>Sony Pictures Classics</td>\n",
       "    </tr>\n",
       "    <tr>\n",
       "      <th>15</th>\n",
       "      <td>22</td>\n",
       "      <td>Two-time Academy Award Winner Kevin Spacey giv...</td>\n",
       "      <td>R</td>\n",
       "      <td>Comedy|Drama|Mystery and Suspense</td>\n",
       "      <td>George Hickenlooper</td>\n",
       "      <td>Norman Snider</td>\n",
       "      <td>Dec 17, 2010</td>\n",
       "      <td>Apr 5, 2011</td>\n",
       "      <td>$</td>\n",
       "      <td>1039869</td>\n",
       "      <td>108 minutes</td>\n",
       "      <td>ATO Pictures</td>\n",
       "    </tr>\n",
       "    <tr>\n",
       "      <th>18</th>\n",
       "      <td>25</td>\n",
       "      <td>From ancient Japan's most enduring tale, the e...</td>\n",
       "      <td>PG-13</td>\n",
       "      <td>Action and Adventure|Drama|Science Fiction and...</td>\n",
       "      <td>Carl Erik Rinsch</td>\n",
       "      <td>Chris Morgan|Hossein Amini</td>\n",
       "      <td>Dec 25, 2013</td>\n",
       "      <td>Apr 1, 2014</td>\n",
       "      <td>$</td>\n",
       "      <td>20518224</td>\n",
       "      <td>127 minutes</td>\n",
       "      <td>Universal Pictures</td>\n",
       "    </tr>\n",
       "  </tbody>\n",
       "</table>\n",
       "</div>"
      ],
      "text/plain": [
       "    id                                           synopsis rating  \\\n",
       "1    3  New York City, not-too-distant-future: Eric Pa...      R   \n",
       "6   10  Some cast and crew from NBC's highly acclaimed...  PG-13   \n",
       "7   13  Stewart Kane, an Irishman living in the Austra...      R   \n",
       "15  22  Two-time Academy Award Winner Kevin Spacey giv...      R   \n",
       "18  25  From ancient Japan's most enduring tale, the e...  PG-13   \n",
       "\n",
       "                                                genre             director  \\\n",
       "1                   Drama|Science Fiction and Fantasy     David Cronenberg   \n",
       "6                                              Comedy          Jake Kasdan   \n",
       "7                                               Drama         Ray Lawrence   \n",
       "15                  Comedy|Drama|Mystery and Suspense  George Hickenlooper   \n",
       "18  Action and Adventure|Drama|Science Fiction and...     Carl Erik Rinsch   \n",
       "\n",
       "                              writer  theater_date      dvd_date currency  \\\n",
       "1       David Cronenberg|Don DeLillo  Aug 17, 2012   Jan 1, 2013        $   \n",
       "6                         Mike White  Jan 11, 2002  Jun 18, 2002        $   \n",
       "7   Raymond Carver|Beatrix Christian  Apr 27, 2006   Oct 2, 2007        $   \n",
       "15                     Norman Snider  Dec 17, 2010   Apr 5, 2011        $   \n",
       "18        Chris Morgan|Hossein Amini  Dec 25, 2013   Apr 1, 2014        $   \n",
       "\n",
       "    box_office      runtime                  studio  \n",
       "1       600000  108 minutes       Entertainment One  \n",
       "6     41032915   82 minutes      Paramount Pictures  \n",
       "7       224114  123 minutes  Sony Pictures Classics  \n",
       "15     1039869  108 minutes            ATO Pictures  \n",
       "18    20518224  127 minutes      Universal Pictures  "
      ]
     },
     "execution_count": 705,
     "metadata": {},
     "output_type": "execute_result"
    }
   ],
   "source": [
    "movie_info_df.head()"
   ]
  },
  {
   "cell_type": "code",
   "execution_count": 706,
   "metadata": {
    "ExecuteTime": {
     "end_time": "2020-12-07T22:56:42.094297Z",
     "start_time": "2020-12-07T22:56:42.091763Z"
    }
   },
   "outputs": [],
   "source": [
    "#looking at the writers column looks like some on the rows has 2 names split by \"|\""
   ]
  },
  {
   "cell_type": "code",
   "execution_count": 707,
   "metadata": {
    "ExecuteTime": {
     "end_time": "2020-12-07T22:56:43.431749Z",
     "start_time": "2020-12-07T22:56:43.427892Z"
    }
   },
   "outputs": [],
   "source": [
    "movie_info_df['writer_split'] = movie_info_df['writer'].map(lambda x: x.split(\"|\")if x else x )\n"
   ]
  },
  {
   "cell_type": "code",
   "execution_count": 708,
   "metadata": {
    "ExecuteTime": {
     "end_time": "2020-12-07T22:56:44.799802Z",
     "start_time": "2020-12-07T22:56:44.784543Z"
    }
   },
   "outputs": [
    {
     "data": {
      "text/html": [
       "<div>\n",
       "<style scoped>\n",
       "    .dataframe tbody tr th:only-of-type {\n",
       "        vertical-align: middle;\n",
       "    }\n",
       "\n",
       "    .dataframe tbody tr th {\n",
       "        vertical-align: top;\n",
       "    }\n",
       "\n",
       "    .dataframe thead th {\n",
       "        text-align: right;\n",
       "    }\n",
       "</style>\n",
       "<table border=\"1\" class=\"dataframe\">\n",
       "  <thead>\n",
       "    <tr style=\"text-align: right;\">\n",
       "      <th></th>\n",
       "      <th>id</th>\n",
       "      <th>synopsis</th>\n",
       "      <th>rating</th>\n",
       "      <th>genre</th>\n",
       "      <th>director</th>\n",
       "      <th>writer</th>\n",
       "      <th>theater_date</th>\n",
       "      <th>dvd_date</th>\n",
       "      <th>currency</th>\n",
       "      <th>box_office</th>\n",
       "      <th>runtime</th>\n",
       "      <th>studio</th>\n",
       "      <th>writer_split</th>\n",
       "    </tr>\n",
       "  </thead>\n",
       "  <tbody>\n",
       "    <tr>\n",
       "      <th>1</th>\n",
       "      <td>3</td>\n",
       "      <td>New York City, not-too-distant-future: Eric Pa...</td>\n",
       "      <td>R</td>\n",
       "      <td>Drama|Science Fiction and Fantasy</td>\n",
       "      <td>David Cronenberg</td>\n",
       "      <td>David Cronenberg|Don DeLillo</td>\n",
       "      <td>Aug 17, 2012</td>\n",
       "      <td>Jan 1, 2013</td>\n",
       "      <td>$</td>\n",
       "      <td>600000</td>\n",
       "      <td>108 minutes</td>\n",
       "      <td>Entertainment One</td>\n",
       "      <td>[David Cronenberg, Don DeLillo]</td>\n",
       "    </tr>\n",
       "    <tr>\n",
       "      <th>6</th>\n",
       "      <td>10</td>\n",
       "      <td>Some cast and crew from NBC's highly acclaimed...</td>\n",
       "      <td>PG-13</td>\n",
       "      <td>Comedy</td>\n",
       "      <td>Jake Kasdan</td>\n",
       "      <td>Mike White</td>\n",
       "      <td>Jan 11, 2002</td>\n",
       "      <td>Jun 18, 2002</td>\n",
       "      <td>$</td>\n",
       "      <td>41032915</td>\n",
       "      <td>82 minutes</td>\n",
       "      <td>Paramount Pictures</td>\n",
       "      <td>[Mike White]</td>\n",
       "    </tr>\n",
       "    <tr>\n",
       "      <th>7</th>\n",
       "      <td>13</td>\n",
       "      <td>Stewart Kane, an Irishman living in the Austra...</td>\n",
       "      <td>R</td>\n",
       "      <td>Drama</td>\n",
       "      <td>Ray Lawrence</td>\n",
       "      <td>Raymond Carver|Beatrix Christian</td>\n",
       "      <td>Apr 27, 2006</td>\n",
       "      <td>Oct 2, 2007</td>\n",
       "      <td>$</td>\n",
       "      <td>224114</td>\n",
       "      <td>123 minutes</td>\n",
       "      <td>Sony Pictures Classics</td>\n",
       "      <td>[Raymond Carver, Beatrix Christian]</td>\n",
       "    </tr>\n",
       "    <tr>\n",
       "      <th>15</th>\n",
       "      <td>22</td>\n",
       "      <td>Two-time Academy Award Winner Kevin Spacey giv...</td>\n",
       "      <td>R</td>\n",
       "      <td>Comedy|Drama|Mystery and Suspense</td>\n",
       "      <td>George Hickenlooper</td>\n",
       "      <td>Norman Snider</td>\n",
       "      <td>Dec 17, 2010</td>\n",
       "      <td>Apr 5, 2011</td>\n",
       "      <td>$</td>\n",
       "      <td>1039869</td>\n",
       "      <td>108 minutes</td>\n",
       "      <td>ATO Pictures</td>\n",
       "      <td>[Norman Snider]</td>\n",
       "    </tr>\n",
       "    <tr>\n",
       "      <th>18</th>\n",
       "      <td>25</td>\n",
       "      <td>From ancient Japan's most enduring tale, the e...</td>\n",
       "      <td>PG-13</td>\n",
       "      <td>Action and Adventure|Drama|Science Fiction and...</td>\n",
       "      <td>Carl Erik Rinsch</td>\n",
       "      <td>Chris Morgan|Hossein Amini</td>\n",
       "      <td>Dec 25, 2013</td>\n",
       "      <td>Apr 1, 2014</td>\n",
       "      <td>$</td>\n",
       "      <td>20518224</td>\n",
       "      <td>127 minutes</td>\n",
       "      <td>Universal Pictures</td>\n",
       "      <td>[Chris Morgan, Hossein Amini]</td>\n",
       "    </tr>\n",
       "  </tbody>\n",
       "</table>\n",
       "</div>"
      ],
      "text/plain": [
       "    id                                           synopsis rating  \\\n",
       "1    3  New York City, not-too-distant-future: Eric Pa...      R   \n",
       "6   10  Some cast and crew from NBC's highly acclaimed...  PG-13   \n",
       "7   13  Stewart Kane, an Irishman living in the Austra...      R   \n",
       "15  22  Two-time Academy Award Winner Kevin Spacey giv...      R   \n",
       "18  25  From ancient Japan's most enduring tale, the e...  PG-13   \n",
       "\n",
       "                                                genre             director  \\\n",
       "1                   Drama|Science Fiction and Fantasy     David Cronenberg   \n",
       "6                                              Comedy          Jake Kasdan   \n",
       "7                                               Drama         Ray Lawrence   \n",
       "15                  Comedy|Drama|Mystery and Suspense  George Hickenlooper   \n",
       "18  Action and Adventure|Drama|Science Fiction and...     Carl Erik Rinsch   \n",
       "\n",
       "                              writer  theater_date      dvd_date currency  \\\n",
       "1       David Cronenberg|Don DeLillo  Aug 17, 2012   Jan 1, 2013        $   \n",
       "6                         Mike White  Jan 11, 2002  Jun 18, 2002        $   \n",
       "7   Raymond Carver|Beatrix Christian  Apr 27, 2006   Oct 2, 2007        $   \n",
       "15                     Norman Snider  Dec 17, 2010   Apr 5, 2011        $   \n",
       "18        Chris Morgan|Hossein Amini  Dec 25, 2013   Apr 1, 2014        $   \n",
       "\n",
       "    box_office      runtime                  studio  \\\n",
       "1       600000  108 minutes       Entertainment One   \n",
       "6     41032915   82 minutes      Paramount Pictures   \n",
       "7       224114  123 minutes  Sony Pictures Classics   \n",
       "15     1039869  108 minutes            ATO Pictures   \n",
       "18    20518224  127 minutes      Universal Pictures   \n",
       "\n",
       "                           writer_split  \n",
       "1       [David Cronenberg, Don DeLillo]  \n",
       "6                          [Mike White]  \n",
       "7   [Raymond Carver, Beatrix Christian]  \n",
       "15                      [Norman Snider]  \n",
       "18        [Chris Morgan, Hossein Amini]  "
      ]
     },
     "execution_count": 708,
     "metadata": {},
     "output_type": "execute_result"
    }
   ],
   "source": [
    "movie_info_df.head()"
   ]
  },
  {
   "cell_type": "code",
   "execution_count": 709,
   "metadata": {
    "ExecuteTime": {
     "end_time": "2020-12-07T22:56:46.190264Z",
     "start_time": "2020-12-07T22:56:46.188106Z"
    }
   },
   "outputs": [],
   "source": [
    "#we got a new column just for the writer's name list \n",
    "#now we need to separate them and only wants each name to appear once using set()"
   ]
  },
  {
   "cell_type": "code",
   "execution_count": 710,
   "metadata": {
    "ExecuteTime": {
     "end_time": "2020-12-07T22:56:47.554561Z",
     "start_time": "2020-12-07T22:56:47.551349Z"
    }
   },
   "outputs": [],
   "source": [
    "all_writers = set()\n",
    "for writer in movie_info_df['writer_split']:\n",
    "    if writer:\n",
    "        all_writers.update(writer)"
   ]
  },
  {
   "cell_type": "code",
   "execution_count": 711,
   "metadata": {
    "ExecuteTime": {
     "end_time": "2020-12-07T22:56:48.931948Z",
     "start_time": "2020-12-07T22:56:48.923454Z"
    }
   },
   "outputs": [
    {
     "data": {
      "text/plain": [
       "{'Aaron Covington',\n",
       " 'Aaron Seltzer',\n",
       " 'Akiva Goldsman',\n",
       " 'Alan Cumming',\n",
       " 'Alec Sulkin',\n",
       " 'Alex Kendrick',\n",
       " 'Alex Mann',\n",
       " 'Aline Brosh McKenna',\n",
       " 'Andrew Bovell',\n",
       " 'Andrew Dominik',\n",
       " 'Andrew Osborne',\n",
       " 'Andrew Stanton',\n",
       " 'Andy Weiss',\n",
       " 'Anthony Peckham',\n",
       " 'Ariel Shaffir',\n",
       " 'Ash Brannon',\n",
       " 'Barry Levinson',\n",
       " 'Beatrix Christian',\n",
       " 'Ben Younger',\n",
       " 'Benedict Fitzgerald',\n",
       " 'Betsy Giffen Nowrasteh',\n",
       " 'Bill Haney',\n",
       " 'Bill Pryor',\n",
       " 'Billy Crystal',\n",
       " 'Bin Wang',\n",
       " 'Bob Glaudini',\n",
       " 'Bob Nelson',\n",
       " 'Bobby Farrelly',\n",
       " 'Brian Bird',\n",
       " 'Brian Helgeland',\n",
       " 'Brian Hohlfeld',\n",
       " 'Brian Regan',\n",
       " 'Brian Taylor',\n",
       " 'Britt Allcroft',\n",
       " 'Bryan Singer',\n",
       " 'Burr Steers',\n",
       " 'Cameron Crowe',\n",
       " 'Candace Lee',\n",
       " 'Captain Mauzner',\n",
       " 'Carl Johansen',\n",
       " 'Caroline Thompson',\n",
       " 'Charles Shyer',\n",
       " 'Charlyne Yi',\n",
       " 'Chris Denk',\n",
       " 'Chris Galletta',\n",
       " 'Chris Morgan',\n",
       " 'Christopher McQuarrie',\n",
       " 'Ciro Guerra',\n",
       " 'Craig Brewer',\n",
       " 'Craig Mazin',\n",
       " 'Cyrus Nowrasteh',\n",
       " 'Dan Harris',\n",
       " 'Dan Mazer',\n",
       " 'Dana Fox',\n",
       " 'Dana Stevens',\n",
       " 'Daniel Harris',\n",
       " 'Daniel Taplitz',\n",
       " 'Danis Tanovic',\n",
       " 'Darin Scott',\n",
       " 'Darnell Martin',\n",
       " 'Dave Callaham',\n",
       " 'David Benioff',\n",
       " 'David Bowers',\n",
       " 'David Cronenberg',\n",
       " 'David Hayter',\n",
       " 'David Koepp',\n",
       " 'David Lowery',\n",
       " 'David Pliler',\n",
       " 'David Ronn',\n",
       " 'David Twohy',\n",
       " 'David Zucker',\n",
       " 'Derek Connolly',\n",
       " 'Derek Haas',\n",
       " 'Derrick Borte',\n",
       " 'Dominic Paris',\n",
       " 'Domonic Paris',\n",
       " 'Don DeLillo',\n",
       " 'Donna Roth',\n",
       " 'Doug Lussenhop',\n",
       " 'Doug Richardson',\n",
       " 'Douglas Simon',\n",
       " 'Dustin Lee Abraham',\n",
       " 'Edgar Wright',\n",
       " 'Ehren Kruger',\n",
       " 'Elaine Pope',\n",
       " 'Eleanor Coppola',\n",
       " 'Ellen Brown Furman',\n",
       " 'Eric England',\n",
       " 'Eric Heisserer',\n",
       " 'Eric Newman',\n",
       " 'Eric Roth',\n",
       " 'Eric Wareheim',\n",
       " 'Erik Gandini',\n",
       " 'Ethan Coen',\n",
       " 'Evan Goldberg',\n",
       " 'Evan Spiliotopoulos',\n",
       " 'Federica Pontremoli',\n",
       " 'Feng Li',\n",
       " 'Florian Henckel von Donnersmarck',\n",
       " 'Fran Walsh',\n",
       " 'Francesco Piccolo',\n",
       " 'Gabe Sachs',\n",
       " 'Gary David Goldberg',\n",
       " 'Gary Scott Thompson',\n",
       " 'Gauri Shinde',\n",
       " 'George Gallo',\n",
       " 'George Nolfi',\n",
       " 'George Toles',\n",
       " 'Gia Coppola',\n",
       " 'Glen Morgan',\n",
       " 'Goran Dukic',\n",
       " 'Gregg Chabot',\n",
       " 'Guillermo del Toro',\n",
       " 'Gus Van Sant',\n",
       " 'Guy Maddin',\n",
       " 'Harmony Korine',\n",
       " 'Hirokazu Koreeda',\n",
       " 'Hossein Amini',\n",
       " 'Jackie Filgo',\n",
       " 'Jacob Aaron Estes',\n",
       " 'Jacob Meszaros',\n",
       " 'Jacques Toulemonde Vidal',\n",
       " 'James Greer',\n",
       " 'James Schamus',\n",
       " 'James Wong',\n",
       " 'Jan Sardi',\n",
       " 'Jane Campion',\n",
       " 'Jared Hess',\n",
       " 'Jason Friedberg',\n",
       " 'Jay Lavender',\n",
       " 'Jay Scherick',\n",
       " 'Jean-Christophe Castelli',\n",
       " 'Jeanne Labrune',\n",
       " 'Jed Weintrob',\n",
       " 'Jeff Filgo',\n",
       " 'Jeff Judah',\n",
       " 'Jeff Lowell',\n",
       " 'Jeff Maguire',\n",
       " 'Jeff Tremaine',\n",
       " 'Jeff Vintar',\n",
       " 'Jennifer Jason Leigh',\n",
       " 'Jennifer Salt',\n",
       " 'Jennifer Westfeldt',\n",
       " 'Jeremy Garelick',\n",
       " 'Jeremy Slater',\n",
       " 'Jerusha Hess',\n",
       " 'Jez Butterworth',\n",
       " 'Jim Herzfeld',\n",
       " 'Jim Jarmusch',\n",
       " 'Joe Stillman',\n",
       " 'Joel Coen',\n",
       " 'John Gatins',\n",
       " 'John Hamburg',\n",
       " 'John Hodge',\n",
       " 'John Logan',\n",
       " 'John Musker',\n",
       " 'John Romano',\n",
       " 'John Scott Shepherd',\n",
       " 'John Swetnam',\n",
       " 'John Waters',\n",
       " 'John-Henry Butterworth',\n",
       " 'Johnny Knoxville',\n",
       " 'Jon Favreau',\n",
       " 'Jon Vitti',\n",
       " 'Jon Zack',\n",
       " 'Jonathan Ames',\n",
       " 'Jonathan Bernstein',\n",
       " 'Jonathan Krisel',\n",
       " 'Jose Rivera',\n",
       " 'Josh Friedman',\n",
       " 'Josh Mond',\n",
       " 'Josh Stolberg',\n",
       " 'Joss Whedon',\n",
       " 'Judd Apatow',\n",
       " 'Julian Fellowes',\n",
       " 'Justin Haythe',\n",
       " 'Karey Kirkpatrick',\n",
       " 'Kasi Lemmons',\n",
       " 'Keenen Ivory Wayans',\n",
       " 'Kelly Fremon Craig',\n",
       " 'Kevin Bisch',\n",
       " 'Kevin Costello',\n",
       " 'Kevin Hood',\n",
       " 'Kevin James',\n",
       " 'Kevin Munroe',\n",
       " 'Kevin Peterka',\n",
       " 'Kevin Smith',\n",
       " 'Kristen Buckley',\n",
       " 'Kristin Gore',\n",
       " 'Kurt Voelker',\n",
       " 'Kyle Hunter',\n",
       " 'Larry Wilson',\n",
       " 'Lars von Trier',\n",
       " 'Lawrence Kasdan',\n",
       " 'Linda Woolverton',\n",
       " 'Lisa Cholodenko',\n",
       " 'Lois Duncan',\n",
       " 'Lucinda Coxon',\n",
       " 'Luke Dawson',\n",
       " 'Lynn Shelton',\n",
       " 'Maggie Carey',\n",
       " 'Maggie Greenwald',\n",
       " 'Marc Hyman',\n",
       " 'Mark Andrews',\n",
       " 'Mark Atkins',\n",
       " 'Mark Frost',\n",
       " 'Mark McCorkle',\n",
       " 'Mark Monroe',\n",
       " 'Mark Neveldine',\n",
       " 'Mark Schwahn',\n",
       " 'Marlon Wayans',\n",
       " 'Martin McDonagh',\n",
       " 'Matt Greenberg',\n",
       " 'Matt Johnson',\n",
       " 'Matt Stone',\n",
       " 'Matthew Greenberg',\n",
       " 'Matthew Robbins',\n",
       " 'Meg Kasdan',\n",
       " 'Mel Gibson',\n",
       " 'Merav Doster',\n",
       " 'Michael Brandt',\n",
       " 'Michael Chabon',\n",
       " 'Michael Dougherty',\n",
       " 'Michael France',\n",
       " 'Michael Genet',\n",
       " 'Michael Mann',\n",
       " 'Michael McDowell',\n",
       " 'Michel Hazanavicius',\n",
       " 'Mike Cerrone',\n",
       " 'Mike Leigh',\n",
       " 'Mike Rich',\n",
       " 'Mike White',\n",
       " 'Mitch Glazer',\n",
       " 'Moira Buffini',\n",
       " 'Mose Richards',\n",
       " 'Mya Stark',\n",
       " 'Nanni Moretti',\n",
       " 'Nathan Alexander',\n",
       " 'Neal Purvis',\n",
       " 'Nia Vardalos',\n",
       " 'Nicholas Griffin',\n",
       " 'Nicholas Jasenovec',\n",
       " 'Nicholas Waller',\n",
       " 'Nick Bakay',\n",
       " 'Nick Cassavetes',\n",
       " 'Nick Murphy',\n",
       " 'Norman Snider',\n",
       " 'Pam Brady',\n",
       " 'Patrick Kelly',\n",
       " 'Patty Jenkins',\n",
       " 'Paul Feig',\n",
       " 'Paul Laverty',\n",
       " 'Paul Pender',\n",
       " 'Paul Thomas Anderson',\n",
       " 'Paul Weitz',\n",
       " 'Peter Farrelly',\n",
       " 'Peter Jackson',\n",
       " 'Peter Morgan',\n",
       " 'Peter Tolan',\n",
       " 'Philippa Boyens',\n",
       " 'Phyllis Nagy',\n",
       " 'Prasoon Joshi',\n",
       " 'Ray Wright',\n",
       " 'Raymond Carver',\n",
       " 'Rebecca Blunt',\n",
       " 'Rhett Reese',\n",
       " 'Richard Debuisne',\n",
       " 'Rick Famuyiwa',\n",
       " 'Ricki Stern',\n",
       " 'Rob Edwards',\n",
       " 'Rob Zombie',\n",
       " 'Robert Carlock',\n",
       " 'Robert Kaufman',\n",
       " 'Robert King',\n",
       " 'Robert Pulcini',\n",
       " 'Robert Ramirez',\n",
       " 'Robert Schooley',\n",
       " 'Robert Wade',\n",
       " 'Robin Swicord',\n",
       " 'Rodney Carrington',\n",
       " 'Roger Avary',\n",
       " 'Roman Coppola',\n",
       " 'Ron Clements',\n",
       " 'Rowdy Herrington',\n",
       " 'Ryan Coogler',\n",
       " 'Ryan Murphy',\n",
       " 'Sam Catlin',\n",
       " 'Sam Harper',\n",
       " 'Sam Levine',\n",
       " 'Sarah Williams',\n",
       " 'Scott Silver',\n",
       " 'Sean Penn',\n",
       " 'Sebastian Gutierrez',\n",
       " 'Seth MacFarlane',\n",
       " 'Seth Rogen',\n",
       " 'Shari Springer Berman',\n",
       " 'Shawn Wayans',\n",
       " 'Sheldon Turner',\n",
       " 'Simon Pegg',\n",
       " 'Simon Wells',\n",
       " 'Sofia Coppola',\n",
       " 'Stan Seidel',\n",
       " 'Stanford Clarke \"Stan\" Seidel',\n",
       " 'Stephen Bradley',\n",
       " 'Stephen Jeffreys',\n",
       " 'Stephen Kendrick',\n",
       " 'Stephen Volk',\n",
       " 'Steve Kloves',\n",
       " 'Steve Moore',\n",
       " 'Steve Oedekerk',\n",
       " 'Steven Baigelman',\n",
       " 'Steven Zaillian',\n",
       " 'Stuart Beattie',\n",
       " 'Susannah Grant',\n",
       " 'Sylvester Stallone',\n",
       " 'Tamara Jenkins',\n",
       " 'Tate Taylor',\n",
       " 'Taylor Sheridan',\n",
       " 'Ted Griffin',\n",
       " 'Terry Hayes',\n",
       " 'Thomas Harris',\n",
       " 'Tim Burton',\n",
       " 'Tim Heidecker',\n",
       " 'Tim McCanlies',\n",
       " 'Tim Sullivan',\n",
       " 'Timothy Harris',\n",
       " 'Timothy Hyde Harris',\n",
       " 'Toby Keith',\n",
       " 'Todd Farmer',\n",
       " 'Tom Hanks',\n",
       " 'Tom Schulman',\n",
       " 'Tony DePaul',\n",
       " 'Tony Gilroy',\n",
       " 'Tracy Letts',\n",
       " 'Trey Edward Shults',\n",
       " 'Trey Parker',\n",
       " 'Tyler Perry',\n",
       " 'Vince Gilligan',\n",
       " 'Vince Vaughn',\n",
       " 'Vincent Gilligan',\n",
       " 'Vondie Curtis-Hall',\n",
       " 'Vy Vincent Ngo',\n",
       " 'Wayne Conley',\n",
       " 'Wellesley Wild',\n",
       " 'Wendy Wells',\n",
       " 'Wesley Strick',\n",
       " 'Will Canon',\n",
       " 'William Blake Herron',\n",
       " 'Woody Allen',\n",
       " 'Yan Geling',\n",
       " 'Yimou Zhang'}"
      ]
     },
     "execution_count": 711,
     "metadata": {},
     "output_type": "execute_result"
    }
   ],
   "source": [
    "all_writers"
   ]
  },
  {
   "cell_type": "code",
   "execution_count": 712,
   "metadata": {
    "ExecuteTime": {
     "end_time": "2020-12-07T22:56:50.305246Z",
     "start_time": "2020-12-07T22:56:50.300944Z"
    }
   },
   "outputs": [],
   "source": [
    "movie_info_df['writer_split1'] = movie_info_df['writer_split'].map(lambda x: x[0])"
   ]
  },
  {
   "cell_type": "code",
   "execution_count": 713,
   "metadata": {
    "ExecuteTime": {
     "end_time": "2020-12-07T22:56:51.724328Z",
     "start_time": "2020-12-07T22:56:51.709958Z"
    }
   },
   "outputs": [
    {
     "data": {
      "text/html": [
       "<div>\n",
       "<style scoped>\n",
       "    .dataframe tbody tr th:only-of-type {\n",
       "        vertical-align: middle;\n",
       "    }\n",
       "\n",
       "    .dataframe tbody tr th {\n",
       "        vertical-align: top;\n",
       "    }\n",
       "\n",
       "    .dataframe thead th {\n",
       "        text-align: right;\n",
       "    }\n",
       "</style>\n",
       "<table border=\"1\" class=\"dataframe\">\n",
       "  <thead>\n",
       "    <tr style=\"text-align: right;\">\n",
       "      <th></th>\n",
       "      <th>id</th>\n",
       "      <th>synopsis</th>\n",
       "      <th>rating</th>\n",
       "      <th>genre</th>\n",
       "      <th>director</th>\n",
       "      <th>writer</th>\n",
       "      <th>theater_date</th>\n",
       "      <th>dvd_date</th>\n",
       "      <th>currency</th>\n",
       "      <th>box_office</th>\n",
       "      <th>runtime</th>\n",
       "      <th>studio</th>\n",
       "      <th>writer_split</th>\n",
       "      <th>writer_split1</th>\n",
       "    </tr>\n",
       "  </thead>\n",
       "  <tbody>\n",
       "    <tr>\n",
       "      <th>1</th>\n",
       "      <td>3</td>\n",
       "      <td>New York City, not-too-distant-future: Eric Pa...</td>\n",
       "      <td>R</td>\n",
       "      <td>Drama|Science Fiction and Fantasy</td>\n",
       "      <td>David Cronenberg</td>\n",
       "      <td>David Cronenberg|Don DeLillo</td>\n",
       "      <td>Aug 17, 2012</td>\n",
       "      <td>Jan 1, 2013</td>\n",
       "      <td>$</td>\n",
       "      <td>600000</td>\n",
       "      <td>108 minutes</td>\n",
       "      <td>Entertainment One</td>\n",
       "      <td>[David Cronenberg, Don DeLillo]</td>\n",
       "      <td>David Cronenberg</td>\n",
       "    </tr>\n",
       "    <tr>\n",
       "      <th>6</th>\n",
       "      <td>10</td>\n",
       "      <td>Some cast and crew from NBC's highly acclaimed...</td>\n",
       "      <td>PG-13</td>\n",
       "      <td>Comedy</td>\n",
       "      <td>Jake Kasdan</td>\n",
       "      <td>Mike White</td>\n",
       "      <td>Jan 11, 2002</td>\n",
       "      <td>Jun 18, 2002</td>\n",
       "      <td>$</td>\n",
       "      <td>41032915</td>\n",
       "      <td>82 minutes</td>\n",
       "      <td>Paramount Pictures</td>\n",
       "      <td>[Mike White]</td>\n",
       "      <td>Mike White</td>\n",
       "    </tr>\n",
       "    <tr>\n",
       "      <th>7</th>\n",
       "      <td>13</td>\n",
       "      <td>Stewart Kane, an Irishman living in the Austra...</td>\n",
       "      <td>R</td>\n",
       "      <td>Drama</td>\n",
       "      <td>Ray Lawrence</td>\n",
       "      <td>Raymond Carver|Beatrix Christian</td>\n",
       "      <td>Apr 27, 2006</td>\n",
       "      <td>Oct 2, 2007</td>\n",
       "      <td>$</td>\n",
       "      <td>224114</td>\n",
       "      <td>123 minutes</td>\n",
       "      <td>Sony Pictures Classics</td>\n",
       "      <td>[Raymond Carver, Beatrix Christian]</td>\n",
       "      <td>Raymond Carver</td>\n",
       "    </tr>\n",
       "    <tr>\n",
       "      <th>15</th>\n",
       "      <td>22</td>\n",
       "      <td>Two-time Academy Award Winner Kevin Spacey giv...</td>\n",
       "      <td>R</td>\n",
       "      <td>Comedy|Drama|Mystery and Suspense</td>\n",
       "      <td>George Hickenlooper</td>\n",
       "      <td>Norman Snider</td>\n",
       "      <td>Dec 17, 2010</td>\n",
       "      <td>Apr 5, 2011</td>\n",
       "      <td>$</td>\n",
       "      <td>1039869</td>\n",
       "      <td>108 minutes</td>\n",
       "      <td>ATO Pictures</td>\n",
       "      <td>[Norman Snider]</td>\n",
       "      <td>Norman Snider</td>\n",
       "    </tr>\n",
       "    <tr>\n",
       "      <th>18</th>\n",
       "      <td>25</td>\n",
       "      <td>From ancient Japan's most enduring tale, the e...</td>\n",
       "      <td>PG-13</td>\n",
       "      <td>Action and Adventure|Drama|Science Fiction and...</td>\n",
       "      <td>Carl Erik Rinsch</td>\n",
       "      <td>Chris Morgan|Hossein Amini</td>\n",
       "      <td>Dec 25, 2013</td>\n",
       "      <td>Apr 1, 2014</td>\n",
       "      <td>$</td>\n",
       "      <td>20518224</td>\n",
       "      <td>127 minutes</td>\n",
       "      <td>Universal Pictures</td>\n",
       "      <td>[Chris Morgan, Hossein Amini]</td>\n",
       "      <td>Chris Morgan</td>\n",
       "    </tr>\n",
       "  </tbody>\n",
       "</table>\n",
       "</div>"
      ],
      "text/plain": [
       "    id                                           synopsis rating  \\\n",
       "1    3  New York City, not-too-distant-future: Eric Pa...      R   \n",
       "6   10  Some cast and crew from NBC's highly acclaimed...  PG-13   \n",
       "7   13  Stewart Kane, an Irishman living in the Austra...      R   \n",
       "15  22  Two-time Academy Award Winner Kevin Spacey giv...      R   \n",
       "18  25  From ancient Japan's most enduring tale, the e...  PG-13   \n",
       "\n",
       "                                                genre             director  \\\n",
       "1                   Drama|Science Fiction and Fantasy     David Cronenberg   \n",
       "6                                              Comedy          Jake Kasdan   \n",
       "7                                               Drama         Ray Lawrence   \n",
       "15                  Comedy|Drama|Mystery and Suspense  George Hickenlooper   \n",
       "18  Action and Adventure|Drama|Science Fiction and...     Carl Erik Rinsch   \n",
       "\n",
       "                              writer  theater_date      dvd_date currency  \\\n",
       "1       David Cronenberg|Don DeLillo  Aug 17, 2012   Jan 1, 2013        $   \n",
       "6                         Mike White  Jan 11, 2002  Jun 18, 2002        $   \n",
       "7   Raymond Carver|Beatrix Christian  Apr 27, 2006   Oct 2, 2007        $   \n",
       "15                     Norman Snider  Dec 17, 2010   Apr 5, 2011        $   \n",
       "18        Chris Morgan|Hossein Amini  Dec 25, 2013   Apr 1, 2014        $   \n",
       "\n",
       "    box_office      runtime                  studio  \\\n",
       "1       600000  108 minutes       Entertainment One   \n",
       "6     41032915   82 minutes      Paramount Pictures   \n",
       "7       224114  123 minutes  Sony Pictures Classics   \n",
       "15     1039869  108 minutes            ATO Pictures   \n",
       "18    20518224  127 minutes      Universal Pictures   \n",
       "\n",
       "                           writer_split     writer_split1  \n",
       "1       [David Cronenberg, Don DeLillo]  David Cronenberg  \n",
       "6                          [Mike White]        Mike White  \n",
       "7   [Raymond Carver, Beatrix Christian]    Raymond Carver  \n",
       "15                      [Norman Snider]     Norman Snider  \n",
       "18        [Chris Morgan, Hossein Amini]      Chris Morgan  "
      ]
     },
     "execution_count": 713,
     "metadata": {},
     "output_type": "execute_result"
    }
   ],
   "source": [
    "movie_info_df.head()"
   ]
  },
  {
   "cell_type": "code",
   "execution_count": 716,
   "metadata": {
    "ExecuteTime": {
     "end_time": "2020-12-08T01:51:44.912825Z",
     "start_time": "2020-12-08T01:51:44.834386Z"
    }
   },
   "outputs": [
    {
     "data": {
      "text/html": [
       "<div>\n",
       "<style scoped>\n",
       "    .dataframe tbody tr th:only-of-type {\n",
       "        vertical-align: middle;\n",
       "    }\n",
       "\n",
       "    .dataframe tbody tr th {\n",
       "        vertical-align: top;\n",
       "    }\n",
       "\n",
       "    .dataframe thead th {\n",
       "        text-align: right;\n",
       "    }\n",
       "</style>\n",
       "<table border=\"1\" class=\"dataframe\">\n",
       "  <thead>\n",
       "    <tr style=\"text-align: right;\">\n",
       "      <th></th>\n",
       "      <th>id</th>\n",
       "      <th>box_office</th>\n",
       "    </tr>\n",
       "  </thead>\n",
       "  <tbody>\n",
       "    <tr>\n",
       "      <th>count</th>\n",
       "      <td>235.000000</td>\n",
       "      <td>2.350000e+02</td>\n",
       "    </tr>\n",
       "    <tr>\n",
       "      <th>mean</th>\n",
       "      <td>1010.217021</td>\n",
       "      <td>4.195840e+07</td>\n",
       "    </tr>\n",
       "    <tr>\n",
       "      <th>std</th>\n",
       "      <td>578.522979</td>\n",
       "      <td>6.263016e+07</td>\n",
       "    </tr>\n",
       "    <tr>\n",
       "      <th>min</th>\n",
       "      <td>3.000000</td>\n",
       "      <td>3.630000e+02</td>\n",
       "    </tr>\n",
       "    <tr>\n",
       "      <th>25%</th>\n",
       "      <td>488.500000</td>\n",
       "      <td>2.302444e+06</td>\n",
       "    </tr>\n",
       "    <tr>\n",
       "      <th>50%</th>\n",
       "      <td>1044.000000</td>\n",
       "      <td>1.553631e+07</td>\n",
       "    </tr>\n",
       "    <tr>\n",
       "      <th>75%</th>\n",
       "      <td>1526.000000</td>\n",
       "      <td>5.264952e+07</td>\n",
       "    </tr>\n",
       "    <tr>\n",
       "      <th>max</th>\n",
       "      <td>1985.000000</td>\n",
       "      <td>3.680000e+08</td>\n",
       "    </tr>\n",
       "  </tbody>\n",
       "</table>\n",
       "</div>"
      ],
      "text/plain": [
       "                id    box_office\n",
       "count   235.000000  2.350000e+02\n",
       "mean   1010.217021  4.195840e+07\n",
       "std     578.522979  6.263016e+07\n",
       "min       3.000000  3.630000e+02\n",
       "25%     488.500000  2.302444e+06\n",
       "50%    1044.000000  1.553631e+07\n",
       "75%    1526.000000  5.264952e+07\n",
       "max    1985.000000  3.680000e+08"
      ]
     },
     "execution_count": 716,
     "metadata": {},
     "output_type": "execute_result"
    }
   ],
   "source": [
    "movie_info_df.describe()"
   ]
  },
  {
   "cell_type": "code",
   "execution_count": 714,
   "metadata": {
    "ExecuteTime": {
     "end_time": "2020-12-07T22:56:53.066992Z",
     "start_time": "2020-12-07T22:56:53.062660Z"
    }
   },
   "outputs": [],
   "source": [
    "sorted_writers = movie_info_df.sort_values(by = 'box_office', ascending= False).head()"
   ]
  },
  {
   "cell_type": "code",
   "execution_count": 715,
   "metadata": {
    "ExecuteTime": {
     "end_time": "2020-12-07T22:56:54.573236Z",
     "start_time": "2020-12-07T22:56:54.387351Z"
    }
   },
   "outputs": [
    {
     "data": {
      "image/png": "[encoded data removed]",
      "text/plain": [
       "<Figure size 648x360 with 1 Axes>"
      ]
     },
     "metadata": {
      "needs_background": "light"
     },
     "output_type": "display_data"
    }
   ],
   "source": [
    "plt.figure(figsize= (9,5))\n",
    "sns.barplot(x= \"writer_split1\", y= \"box_office\", data= sorted_writers)\n",
    "plt.title('Top 5 Writers')\n",
    "plt.savefig('3.png')"
   ]
  }
 ],
 "metadata": {
  "kernelspec": {
   "display_name": "Python 3",
   "language": "python",
   "name": "python3"
  },
  "language_info": {
   "codemirror_mode": {
    "name": "ipython",
    "version": 3
   },
   "file_extension": ".py",
   "mimetype": "text/x-python",
   "name": "python",
   "nbconvert_exporter": "python",
   "pygments_lexer": "ipython3",
   "version": "3.8.5"
  },
  "toc": {
   "base_numbering": 1,
   "nav_menu": {},
   "number_sections": true,
   "sideBar": true,
   "skip_h1_title": false,
   "title_cell": "Table of Contents",
   "title_sidebar": "Contents",
   "toc_cell": false,
   "toc_position": {},
   "toc_section_display": true,
   "toc_window_display": false
  },
  "varInspector": {
   "cols": {
    "lenName": 16,
    "lenType": 16,
    "lenVar": 40
   },
   "kernels_config": {
    "python": {
     "delete_cmd_postfix": "",
     "delete_cmd_prefix": "del ",
     "library": "var_list.py",
     "varRefreshCmd": "print(var_dic_list())"
    },
    "r": {
     "delete_cmd_postfix": ") ",
     "delete_cmd_prefix": "rm(",
     "library": "var_list.r",
     "varRefreshCmd": "cat(var_dic_list()) "
    }
   },
   "types_to_exclude": [
    "module",
    "function",
    "builtin_function_or_method",
    "instance",
    "_Feature"
   ],
   "window_display": false
  }
 },
 "nbformat": 4,
 "nbformat_minor": 4
}
