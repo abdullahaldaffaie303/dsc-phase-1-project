{
 "cells": [
  {
   "cell_type": "markdown",
   "metadata": {},
   "source": [
    "# Project Description:\n",
    "\n",
    "Analyzing movie data to come up with recommendations for Microsoft's new movie studio"
   ]
  },
  {
   "cell_type": "markdown",
   "metadata": {},
   "source": [
    "## Data \n",
    "\n",
    "Movie datasets from:\n",
    "\n",
    "1. Box Office Mojo\n",
    "2. IMDB\n",
    "3. Rotten Tomatoes\n",
    "4. TheMovieDB.org\n",
    "\n",
    "## Key Findings"
   ]
  },
  {
   "cell_type": "markdown",
   "metadata": {},
   "source": [
    "### Is there a relation between the runtime for a movie and profit?"
   ]
  },
  {
   "cell_type": "markdown",
   "metadata": {},
   "source": [
    "I looked into (movie_budgets) file and it has a column for a (production budget) and \n",
    "column for (worldwide gross), from the data in the 2 column we were able to find \n",
    "out if the movies made profit or not.The data need some cleaning, first we worked on cleaning the data type from object to int64, second we cleaned the missing values.Then I merged it with (title basics) which has the runtime column and cleaned the data some more."
   ]
  },
  {
   "cell_type": "markdown",
   "metadata": {},
   "source": [
    "Here are our key findings:\n",
    "\n",
    "1. There is a relation between the runtime and how profitable the movie is.\n",
    "2. The best runtime is around a hour.\n",
    "3. But anything over an hour and twenty minutes does not do good. "
   ]
  },
  {
   "cell_type": "markdown",
   "metadata": {},
   "source": [
    "![profitable_runtime](1.png)"
   ]
  },
  {
   "cell_type": "markdown",
   "metadata": {},
   "source": [
    "**recommendations**\n",
    "\n",
    "1. If you are looking to make profitable movies conceder making the runtime around \n",
    "   the hour mark.\n",
    "2. if you had to go over an hour, i would recommend keeping it under the hour and \n",
    "   fifteen minute mark."
   ]
  },
  {
   "cell_type": "markdown",
   "metadata": {},
   "source": [
    "### Who are the Top 5 Directors to work with?"
   ]
  },
  {
   "cell_type": "markdown",
   "metadata": {},
   "source": [
    "I looked into (movie_info) file and it has a column for a (Director) and  \n",
    "column for (box_office), from the data in the 2 column we were able to find \n",
    "out the relationship between the movies that did well at the box office and \n",
    "the directors who worked on them. The data need some cleaning, first we worked \n",
    "on cleaning the data type from object to int64 for the (box_office) column, \n",
    "second we cleaned the missing values."
   ]
  },
  {
   "cell_type": "markdown",
   "metadata": {},
   "source": [
    "Here are our findings:\n",
    "    \n",
    "1. We were able to determine the best top five directors.\n",
    "2. The top 5 directors are: 1.Mel Gibson 2. Peter Jackson 3. Sam Mendes 4. Jay Roach 5. Chris Columbus\n"
   ]
  },
  {
   "cell_type": "markdown",
   "metadata": {},
   "source": [
    "![top_5_directors](2.png)"
   ]
  },
  {
   "cell_type": "markdown",
   "metadata": {},
   "source": [
    "**Recommendation**\n",
    "\n",
    ". If you were looking into making movies that do well at the Box office I would recommend you \n",
    "   use one of the top 5 directors to direct your movies.\n",
    "   \n",
    ". Based on the correlation between writer and director, we suggest that the main writer and director be the same person"
   ]
  },
  {
   "cell_type": "markdown",
   "metadata": {},
   "source": [
    "### Who are the Top 5 Writers to work with?"
   ]
  },
  {
   "cell_type": "markdown",
   "metadata": {},
   "source": [
    "I looked into (movie_info) file and it has a column for a (Writer) and  \n",
    "column for (box_office), from the data in the 2 columns we were able to find \n",
    "out the relationship between the movies that did well at the box office and \n",
    "the Writers who worked on them. The data need some cleaning, so first we worked \n",
    "on cleaning the Writer column because some of the values had 2 names on them\n",
    "at a time. We separated the names and got rid of the repeated values. Second we cleaned the missing values."
   ]
  },
  {
   "cell_type": "markdown",
   "metadata": {},
   "source": [
    "Here are our findings:\n",
    "\n",
    ". The top 5 writers to work with are :\n",
    "\n",
    "1. Mel Gibson 2. Peter Jackson 3. John Logan 4. Jim Herzfeld 5. Steve Kloves"
   ]
  },
  {
   "cell_type": "markdown",
   "metadata": {
    "ExecuteTime": {
     "end_time": "2020-12-07T23:12:33.445895Z",
     "start_time": "2020-12-07T23:12:33.296071Z"
    }
   },
   "source": [
    "![top_5_writers](3.png)"
   ]
  },
  {
   "cell_type": "markdown",
   "metadata": {},
   "source": [
    "***Recommendation***\n",
    "\n",
    ". Consider those writers to work on your movies, the movies they worked on did well at the box office."
   ]
  },
  {
   "cell_type": "markdown",
   "metadata": {},
   "source": [
    "# Command to convert jupyter notebook to markdown file\n",
    "\n",
    "# jupyter nbconvert --to markdown notebookname.ipynb"
   ]
  },
  {
   "cell_type": "code",
   "execution_count": null,
   "metadata": {},
   "outputs": [],
   "source": []
  }
 ],
 "metadata": {
  "kernelspec": {
   "display_name": "Python 3",
   "language": "python",
   "name": "python3"
  },
  "language_info": {
   "codemirror_mode": {
    "name": "ipython",
    "version": 3
   },
   "file_extension": ".py",
   "mimetype": "text/x-python",
   "name": "python",
   "nbconvert_exporter": "python",
   "pygments_lexer": "ipython3",
   "version": "3.8.5"
  },
  "toc": {
   "base_numbering": 1,
   "nav_menu": {},
   "number_sections": true,
   "sideBar": true,
   "skip_h1_title": false,
   "title_cell": "Table of Contents",
   "title_sidebar": "Contents",
   "toc_cell": false,
   "toc_position": {},
   "toc_section_display": true,
   "toc_window_display": false
  },
  "varInspector": {
   "cols": {
    "lenName": 16,
    "lenType": 16,
    "lenVar": 40
   },
   "kernels_config": {
    "python": {
     "delete_cmd_postfix": "",
     "delete_cmd_prefix": "del ",
     "library": "var_list.py",
     "varRefreshCmd": "print(var_dic_list())"
    },
    "r": {
     "delete_cmd_postfix": ") ",
     "delete_cmd_prefix": "rm(",
     "library": "var_list.r",
     "varRefreshCmd": "cat(var_dic_list()) "
    }
   },
   "types_to_exclude": [
    "module",
    "function",
    "builtin_function_or_method",
    "instance",
    "_Feature"
   ],
   "window_display": false
  }
 },
 "nbformat": 4,
 "nbformat_minor": 4
}
